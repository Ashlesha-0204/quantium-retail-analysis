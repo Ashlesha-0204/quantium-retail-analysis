{
 "cells": [
  {
   "cell_type": "markdown",
   "id": "be0718fc",
   "metadata": {},
   "source": [
    "# Task 1"
   ]
  },
  {
   "cell_type": "markdown",
   "id": "cc02141e",
   "metadata": {},
   "source": [
    "#### The goal is to analyze transaction and customer data to uncover purchasing trends and behaviors, with a specific focus on customer segments and their chip purchasing habits. The insights will be used to form a strategic recommendation for Julia, the Category Manager, to support an upcoming category review."
   ]
  },
  {
   "cell_type": "code",
   "execution_count": 2,
   "id": "60adcf3f",
   "metadata": {},
   "outputs": [],
   "source": [
    "# import libraries\n",
    "\n",
    "import pandas as pd, numpy as np\n",
    "import matplotlib.pyplot as plt\n",
    "import seaborn as sns\n",
    "\n",
    "import warnings \n",
    "warnings.filterwarnings('ignore')"
   ]
  },
  {
   "cell_type": "code",
   "execution_count": 3,
   "id": "27b4794e",
   "metadata": {},
   "outputs": [],
   "source": [
    "# read the dataset\n",
    "\n",
    "transactionData = pd.read_excel(\"QVI_transaction_data.xlsx\")\n",
    "customerData = pd.read_csv(\"QVI_purchase_behaviour.csv\")"
   ]
  },
  {
   "cell_type": "markdown",
   "id": "53d1835f",
   "metadata": {},
   "source": [
    "#### Performing basic operations to study the given data"
   ]
  },
  {
   "cell_type": "code",
   "execution_count": 4,
   "id": "b5c5087b",
   "metadata": {},
   "outputs": [
    {
     "data": {
      "text/html": [
       "<div>\n",
       "<style scoped>\n",
       "    .dataframe tbody tr th:only-of-type {\n",
       "        vertical-align: middle;\n",
       "    }\n",
       "\n",
       "    .dataframe tbody tr th {\n",
       "        vertical-align: top;\n",
       "    }\n",
       "\n",
       "    .dataframe thead th {\n",
       "        text-align: right;\n",
       "    }\n",
       "</style>\n",
       "<table border=\"1\" class=\"dataframe\">\n",
       "  <thead>\n",
       "    <tr style=\"text-align: right;\">\n",
       "      <th></th>\n",
       "      <th>DATE</th>\n",
       "      <th>STORE_NBR</th>\n",
       "      <th>LYLTY_CARD_NBR</th>\n",
       "      <th>TXN_ID</th>\n",
       "      <th>PROD_NBR</th>\n",
       "      <th>PROD_NAME</th>\n",
       "      <th>PROD_QTY</th>\n",
       "      <th>TOT_SALES</th>\n",
       "    </tr>\n",
       "  </thead>\n",
       "  <tbody>\n",
       "    <tr>\n",
       "      <th>0</th>\n",
       "      <td>43390</td>\n",
       "      <td>1</td>\n",
       "      <td>1000</td>\n",
       "      <td>1</td>\n",
       "      <td>5</td>\n",
       "      <td>Natural Chip        Compny SeaSalt175g</td>\n",
       "      <td>2</td>\n",
       "      <td>6.0</td>\n",
       "    </tr>\n",
       "    <tr>\n",
       "      <th>1</th>\n",
       "      <td>43599</td>\n",
       "      <td>1</td>\n",
       "      <td>1307</td>\n",
       "      <td>348</td>\n",
       "      <td>66</td>\n",
       "      <td>CCs Nacho Cheese    175g</td>\n",
       "      <td>3</td>\n",
       "      <td>6.3</td>\n",
       "    </tr>\n",
       "    <tr>\n",
       "      <th>2</th>\n",
       "      <td>43605</td>\n",
       "      <td>1</td>\n",
       "      <td>1343</td>\n",
       "      <td>383</td>\n",
       "      <td>61</td>\n",
       "      <td>Smiths Crinkle Cut  Chips Chicken 170g</td>\n",
       "      <td>2</td>\n",
       "      <td>2.9</td>\n",
       "    </tr>\n",
       "    <tr>\n",
       "      <th>3</th>\n",
       "      <td>43329</td>\n",
       "      <td>2</td>\n",
       "      <td>2373</td>\n",
       "      <td>974</td>\n",
       "      <td>69</td>\n",
       "      <td>Smiths Chip Thinly  S/Cream&amp;Onion 175g</td>\n",
       "      <td>5</td>\n",
       "      <td>15.0</td>\n",
       "    </tr>\n",
       "    <tr>\n",
       "      <th>4</th>\n",
       "      <td>43330</td>\n",
       "      <td>2</td>\n",
       "      <td>2426</td>\n",
       "      <td>1038</td>\n",
       "      <td>108</td>\n",
       "      <td>Kettle Tortilla ChpsHny&amp;Jlpno Chili 150g</td>\n",
       "      <td>3</td>\n",
       "      <td>13.8</td>\n",
       "    </tr>\n",
       "  </tbody>\n",
       "</table>\n",
       "</div>"
      ],
      "text/plain": [
       "    DATE  STORE_NBR  LYLTY_CARD_NBR  TXN_ID  PROD_NBR  \\\n",
       "0  43390          1            1000       1         5   \n",
       "1  43599          1            1307     348        66   \n",
       "2  43605          1            1343     383        61   \n",
       "3  43329          2            2373     974        69   \n",
       "4  43330          2            2426    1038       108   \n",
       "\n",
       "                                  PROD_NAME  PROD_QTY  TOT_SALES  \n",
       "0    Natural Chip        Compny SeaSalt175g         2        6.0  \n",
       "1                  CCs Nacho Cheese    175g         3        6.3  \n",
       "2    Smiths Crinkle Cut  Chips Chicken 170g         2        2.9  \n",
       "3    Smiths Chip Thinly  S/Cream&Onion 175g         5       15.0  \n",
       "4  Kettle Tortilla ChpsHny&Jlpno Chili 150g         3       13.8  "
      ]
     },
     "execution_count": 4,
     "metadata": {},
     "output_type": "execute_result"
    }
   ],
   "source": [
    "# display first ten rows from transaction data\n",
    "\n",
    "transactionData.head()"
   ]
  },
  {
   "cell_type": "code",
   "execution_count": 5,
   "id": "2affa5c7",
   "metadata": {},
   "outputs": [
    {
     "data": {
      "text/plain": [
       "(264836, 8)"
      ]
     },
     "execution_count": 5,
     "metadata": {},
     "output_type": "execute_result"
    }
   ],
   "source": [
    "transactionData.shape"
   ]
  },
  {
   "cell_type": "code",
   "execution_count": 6,
   "id": "63c3600b",
   "metadata": {},
   "outputs": [
    {
     "data": {
      "text/plain": [
       "DATE                int64\n",
       "STORE_NBR           int64\n",
       "LYLTY_CARD_NBR      int64\n",
       "TXN_ID              int64\n",
       "PROD_NBR            int64\n",
       "PROD_NAME          object\n",
       "PROD_QTY            int64\n",
       "TOT_SALES         float64\n",
       "dtype: object"
      ]
     },
     "execution_count": 6,
     "metadata": {},
     "output_type": "execute_result"
    }
   ],
   "source": [
    "# check for incorrect datatypes\n",
    "transactionData.dtypes"
   ]
  },
  {
   "cell_type": "code",
   "execution_count": 7,
   "id": "cee5fcb1",
   "metadata": {},
   "outputs": [],
   "source": [
    "# convert the DATE column from integer to datetime format\n",
    "transactionData['DATE'] = pd.to_datetime(transactionData['DATE'], unit = 'D', origin ='1899-12-30')"
   ]
  },
  {
   "cell_type": "code",
   "execution_count": 8,
   "id": "dbbf0bd6",
   "metadata": {},
   "outputs": [
    {
     "data": {
      "text/html": [
       "<div>\n",
       "<style scoped>\n",
       "    .dataframe tbody tr th:only-of-type {\n",
       "        vertical-align: middle;\n",
       "    }\n",
       "\n",
       "    .dataframe tbody tr th {\n",
       "        vertical-align: top;\n",
       "    }\n",
       "\n",
       "    .dataframe thead th {\n",
       "        text-align: right;\n",
       "    }\n",
       "</style>\n",
       "<table border=\"1\" class=\"dataframe\">\n",
       "  <thead>\n",
       "    <tr style=\"text-align: right;\">\n",
       "      <th></th>\n",
       "      <th>DATE</th>\n",
       "      <th>STORE_NBR</th>\n",
       "      <th>LYLTY_CARD_NBR</th>\n",
       "      <th>TXN_ID</th>\n",
       "      <th>PROD_NBR</th>\n",
       "      <th>PROD_NAME</th>\n",
       "      <th>PROD_QTY</th>\n",
       "      <th>TOT_SALES</th>\n",
       "    </tr>\n",
       "  </thead>\n",
       "  <tbody>\n",
       "    <tr>\n",
       "      <th>0</th>\n",
       "      <td>2018-10-17</td>\n",
       "      <td>1</td>\n",
       "      <td>1000</td>\n",
       "      <td>1</td>\n",
       "      <td>5</td>\n",
       "      <td>Natural Chip        Compny SeaSalt175g</td>\n",
       "      <td>2</td>\n",
       "      <td>6.0</td>\n",
       "    </tr>\n",
       "    <tr>\n",
       "      <th>1</th>\n",
       "      <td>2019-05-14</td>\n",
       "      <td>1</td>\n",
       "      <td>1307</td>\n",
       "      <td>348</td>\n",
       "      <td>66</td>\n",
       "      <td>CCs Nacho Cheese    175g</td>\n",
       "      <td>3</td>\n",
       "      <td>6.3</td>\n",
       "    </tr>\n",
       "    <tr>\n",
       "      <th>2</th>\n",
       "      <td>2019-05-20</td>\n",
       "      <td>1</td>\n",
       "      <td>1343</td>\n",
       "      <td>383</td>\n",
       "      <td>61</td>\n",
       "      <td>Smiths Crinkle Cut  Chips Chicken 170g</td>\n",
       "      <td>2</td>\n",
       "      <td>2.9</td>\n",
       "    </tr>\n",
       "  </tbody>\n",
       "</table>\n",
       "</div>"
      ],
      "text/plain": [
       "        DATE  STORE_NBR  LYLTY_CARD_NBR  TXN_ID  PROD_NBR  \\\n",
       "0 2018-10-17          1            1000       1         5   \n",
       "1 2019-05-14          1            1307     348        66   \n",
       "2 2019-05-20          1            1343     383        61   \n",
       "\n",
       "                                PROD_NAME  PROD_QTY  TOT_SALES  \n",
       "0  Natural Chip        Compny SeaSalt175g         2        6.0  \n",
       "1                CCs Nacho Cheese    175g         3        6.3  \n",
       "2  Smiths Crinkle Cut  Chips Chicken 170g         2        2.9  "
      ]
     },
     "execution_count": 8,
     "metadata": {},
     "output_type": "execute_result"
    }
   ],
   "source": [
    "transactionData.head(3)"
   ]
  },
  {
   "cell_type": "code",
   "execution_count": 9,
   "id": "66f3a17d",
   "metadata": {},
   "outputs": [
    {
     "data": {
      "text/plain": [
       "DATE              0\n",
       "STORE_NBR         0\n",
       "LYLTY_CARD_NBR    0\n",
       "TXN_ID            0\n",
       "PROD_NBR          0\n",
       "PROD_NAME         0\n",
       "PROD_QTY          0\n",
       "TOT_SALES         0\n",
       "dtype: int64"
      ]
     },
     "execution_count": 9,
     "metadata": {},
     "output_type": "execute_result"
    }
   ],
   "source": [
    "# check for missing data\n",
    "transactionData.isnull().sum()"
   ]
  },
  {
   "cell_type": "code",
   "execution_count": 10,
   "id": "b12b961e",
   "metadata": {},
   "outputs": [
    {
     "data": {
      "text/plain": [
       "1"
      ]
     },
     "execution_count": 10,
     "metadata": {},
     "output_type": "execute_result"
    }
   ],
   "source": [
    "# check for duplicates\n",
    "transactionData.duplicated().sum()"
   ]
  },
  {
   "cell_type": "code",
   "execution_count": 11,
   "id": "3a436b0f",
   "metadata": {},
   "outputs": [],
   "source": [
    "# remove duplicate rows\n",
    "transactionData = transactionData.drop_duplicates()"
   ]
  },
  {
   "cell_type": "code",
   "execution_count": 12,
   "id": "71295b30",
   "metadata": {},
   "outputs": [
    {
     "name": "stdout",
     "output_type": "stream",
     "text": [
      "count                                     264835\n",
      "unique                                       114\n",
      "top       Kettle Mozzarella   Basil & Pesto 175g\n",
      "freq                                        3304\n",
      "Name: PROD_NAME, dtype: object\n"
     ]
    }
   ],
   "source": [
    "# generate the summary of PROD_NAME column\n",
    "prod_name_summary = transactionData['PROD_NAME'].describe()\n",
    "print(prod_name_summary)"
   ]
  },
  {
   "cell_type": "code",
   "execution_count": 13,
   "id": "b42bb1f5",
   "metadata": {},
   "outputs": [
    {
     "data": {
      "text/plain": [
       "array(['Natural Chip        Compny SeaSalt175g',\n",
       "       'CCs Nacho Cheese    175g',\n",
       "       'Smiths Crinkle Cut  Chips Chicken 170g',\n",
       "       'Smiths Chip Thinly  S/Cream&Onion 175g',\n",
       "       'Kettle Tortilla ChpsHny&Jlpno Chili 150g',\n",
       "       'Old El Paso Salsa   Dip Tomato Mild 300g',\n",
       "       'Smiths Crinkle Chips Salt & Vinegar 330g',\n",
       "       'Grain Waves         Sweet Chilli 210g',\n",
       "       'Doritos Corn Chip Mexican Jalapeno 150g',\n",
       "       'Grain Waves Sour    Cream&Chives 210G'], dtype=object)"
      ]
     },
     "execution_count": 13,
     "metadata": {},
     "output_type": "execute_result"
    }
   ],
   "source": [
    "# get unique product names from the dataset\n",
    "unique_names = transactionData['PROD_NAME'].unique()\n",
    "\n",
    "unique_names[:10]"
   ]
  },
  {
   "cell_type": "markdown",
   "id": "485c4bac",
   "metadata": {},
   "source": [
    "#### Performing a basic text analysis to check if all entries in the PROD_NAME column actually refer to chips"
   ]
  },
  {
   "cell_type": "code",
   "execution_count": 14,
   "id": "3ef71ba4",
   "metadata": {},
   "outputs": [
    {
     "data": {
      "text/html": [
       "<div>\n",
       "<style scoped>\n",
       "    .dataframe tbody tr th:only-of-type {\n",
       "        vertical-align: middle;\n",
       "    }\n",
       "\n",
       "    .dataframe tbody tr th {\n",
       "        vertical-align: top;\n",
       "    }\n",
       "\n",
       "    .dataframe thead th {\n",
       "        text-align: right;\n",
       "    }\n",
       "</style>\n",
       "<table border=\"1\" class=\"dataframe\">\n",
       "  <thead>\n",
       "    <tr style=\"text-align: right;\">\n",
       "      <th></th>\n",
       "      <th>word</th>\n",
       "      <th>count</th>\n",
       "    </tr>\n",
       "  </thead>\n",
       "  <tbody>\n",
       "    <tr>\n",
       "      <th>0</th>\n",
       "      <td>chips</td>\n",
       "      <td>49770</td>\n",
       "    </tr>\n",
       "    <tr>\n",
       "      <th>1</th>\n",
       "      <td>kettle</td>\n",
       "      <td>41288</td>\n",
       "    </tr>\n",
       "    <tr>\n",
       "      <th>2</th>\n",
       "      <td>smiths</td>\n",
       "      <td>28859</td>\n",
       "    </tr>\n",
       "    <tr>\n",
       "      <th>3</th>\n",
       "      <td>salt</td>\n",
       "      <td>27976</td>\n",
       "    </tr>\n",
       "    <tr>\n",
       "      <th>4</th>\n",
       "      <td>cheese</td>\n",
       "      <td>27890</td>\n",
       "    </tr>\n",
       "    <tr>\n",
       "      <th>...</th>\n",
       "      <td>...</td>\n",
       "      <td>...</td>\n",
       "    </tr>\n",
       "    <tr>\n",
       "      <th>192</th>\n",
       "      <td>sunbites</td>\n",
       "      <td>1432</td>\n",
       "    </tr>\n",
       "    <tr>\n",
       "      <th>193</th>\n",
       "      <td>pc</td>\n",
       "      <td>1431</td>\n",
       "    </tr>\n",
       "    <tr>\n",
       "      <th>194</th>\n",
       "      <td>ncc</td>\n",
       "      <td>1419</td>\n",
       "    </tr>\n",
       "    <tr>\n",
       "      <th>195</th>\n",
       "      <td>garden</td>\n",
       "      <td>1419</td>\n",
       "    </tr>\n",
       "    <tr>\n",
       "      <th>196</th>\n",
       "      <td>fries</td>\n",
       "      <td>1418</td>\n",
       "    </tr>\n",
       "  </tbody>\n",
       "</table>\n",
       "<p>197 rows × 2 columns</p>\n",
       "</div>"
      ],
      "text/plain": [
       "         word  count\n",
       "0       chips  49770\n",
       "1      kettle  41288\n",
       "2      smiths  28859\n",
       "3        salt  27976\n",
       "4      cheese  27890\n",
       "..        ...    ...\n",
       "192  sunbites   1432\n",
       "193        pc   1431\n",
       "194       ncc   1419\n",
       "195    garden   1419\n",
       "196     fries   1418\n",
       "\n",
       "[197 rows x 2 columns]"
      ]
     },
     "execution_count": 14,
     "metadata": {},
     "output_type": "execute_result"
    }
   ],
   "source": [
    "# split the product names into words\n",
    "product_names = transactionData['PROD_NAME'].str.lower().str.replace(r\"([0-9]+[gG])\", \"\",regex = True)\n",
    "product_names = product_names.str.replace(r'[^\\w]',' ', regex = True)\n",
    "all_words = product_names.str.split(expand=True).stack()\n",
    "\n",
    "#count word frequencies\n",
    "word_counts = all_words.value_counts().reset_index()\n",
    "word_counts.columns = ['word','count']\n",
    "\n",
    "word_counts"
   ]
  },
  {
   "cell_type": "code",
   "execution_count": 15,
   "id": "19817d17",
   "metadata": {},
   "outputs": [],
   "source": [
    "# remove rows where \"salsa\" appears in the PROD_NAME column\n",
    "\n",
    "transactionData = transactionData[~ transactionData[\"PROD_NAME\"].str.contains(\"salsa\", case =False)]"
   ]
  },
  {
   "cell_type": "code",
   "execution_count": 16,
   "id": "73e89364",
   "metadata": {},
   "outputs": [
    {
     "data": {
      "text/plain": [
       "(246741, 8)"
      ]
     },
     "execution_count": 16,
     "metadata": {},
     "output_type": "execute_result"
    }
   ],
   "source": [
    "transactionData.shape"
   ]
  },
  {
   "cell_type": "code",
   "execution_count": 17,
   "id": "feae70f4",
   "metadata": {},
   "outputs": [
    {
     "data": {
      "text/html": [
       "<div>\n",
       "<style scoped>\n",
       "    .dataframe tbody tr th:only-of-type {\n",
       "        vertical-align: middle;\n",
       "    }\n",
       "\n",
       "    .dataframe tbody tr th {\n",
       "        vertical-align: top;\n",
       "    }\n",
       "\n",
       "    .dataframe thead th {\n",
       "        text-align: right;\n",
       "    }\n",
       "</style>\n",
       "<table border=\"1\" class=\"dataframe\">\n",
       "  <thead>\n",
       "    <tr style=\"text-align: right;\">\n",
       "      <th></th>\n",
       "      <th>DATE</th>\n",
       "      <th>STORE_NBR</th>\n",
       "      <th>LYLTY_CARD_NBR</th>\n",
       "      <th>TXN_ID</th>\n",
       "      <th>PROD_NBR</th>\n",
       "      <th>PROD_NAME</th>\n",
       "      <th>PROD_QTY</th>\n",
       "      <th>TOT_SALES</th>\n",
       "    </tr>\n",
       "  </thead>\n",
       "  <tbody>\n",
       "    <tr>\n",
       "      <th>count</th>\n",
       "      <td>246741</td>\n",
       "      <td>246741.000000</td>\n",
       "      <td>2.467410e+05</td>\n",
       "      <td>2.467410e+05</td>\n",
       "      <td>246741.000000</td>\n",
       "      <td>246741</td>\n",
       "      <td>246741.000000</td>\n",
       "      <td>246741.000000</td>\n",
       "    </tr>\n",
       "    <tr>\n",
       "      <th>unique</th>\n",
       "      <td>NaN</td>\n",
       "      <td>NaN</td>\n",
       "      <td>NaN</td>\n",
       "      <td>NaN</td>\n",
       "      <td>NaN</td>\n",
       "      <td>105</td>\n",
       "      <td>NaN</td>\n",
       "      <td>NaN</td>\n",
       "    </tr>\n",
       "    <tr>\n",
       "      <th>top</th>\n",
       "      <td>NaN</td>\n",
       "      <td>NaN</td>\n",
       "      <td>NaN</td>\n",
       "      <td>NaN</td>\n",
       "      <td>NaN</td>\n",
       "      <td>Kettle Mozzarella   Basil &amp; Pesto 175g</td>\n",
       "      <td>NaN</td>\n",
       "      <td>NaN</td>\n",
       "    </tr>\n",
       "    <tr>\n",
       "      <th>freq</th>\n",
       "      <td>NaN</td>\n",
       "      <td>NaN</td>\n",
       "      <td>NaN</td>\n",
       "      <td>NaN</td>\n",
       "      <td>NaN</td>\n",
       "      <td>3304</td>\n",
       "      <td>NaN</td>\n",
       "      <td>NaN</td>\n",
       "    </tr>\n",
       "    <tr>\n",
       "      <th>mean</th>\n",
       "      <td>2018-12-30 01:19:32.745510656</td>\n",
       "      <td>135.051212</td>\n",
       "      <td>1.355311e+05</td>\n",
       "      <td>1.351312e+05</td>\n",
       "      <td>56.351835</td>\n",
       "      <td>NaN</td>\n",
       "      <td>1.908061</td>\n",
       "      <td>7.321328</td>\n",
       "    </tr>\n",
       "    <tr>\n",
       "      <th>min</th>\n",
       "      <td>2018-07-01 00:00:00</td>\n",
       "      <td>1.000000</td>\n",
       "      <td>1.000000e+03</td>\n",
       "      <td>1.000000e+00</td>\n",
       "      <td>1.000000</td>\n",
       "      <td>NaN</td>\n",
       "      <td>1.000000</td>\n",
       "      <td>1.700000</td>\n",
       "    </tr>\n",
       "    <tr>\n",
       "      <th>25%</th>\n",
       "      <td>2018-09-30 00:00:00</td>\n",
       "      <td>70.000000</td>\n",
       "      <td>7.001500e+04</td>\n",
       "      <td>6.756900e+04</td>\n",
       "      <td>26.000000</td>\n",
       "      <td>NaN</td>\n",
       "      <td>2.000000</td>\n",
       "      <td>5.800000</td>\n",
       "    </tr>\n",
       "    <tr>\n",
       "      <th>50%</th>\n",
       "      <td>2018-12-30 00:00:00</td>\n",
       "      <td>130.000000</td>\n",
       "      <td>1.303670e+05</td>\n",
       "      <td>1.351840e+05</td>\n",
       "      <td>53.000000</td>\n",
       "      <td>NaN</td>\n",
       "      <td>2.000000</td>\n",
       "      <td>7.400000</td>\n",
       "    </tr>\n",
       "    <tr>\n",
       "      <th>75%</th>\n",
       "      <td>2019-03-31 00:00:00</td>\n",
       "      <td>203.000000</td>\n",
       "      <td>2.030840e+05</td>\n",
       "      <td>2.026540e+05</td>\n",
       "      <td>87.000000</td>\n",
       "      <td>NaN</td>\n",
       "      <td>2.000000</td>\n",
       "      <td>8.800000</td>\n",
       "    </tr>\n",
       "    <tr>\n",
       "      <th>max</th>\n",
       "      <td>2019-06-30 00:00:00</td>\n",
       "      <td>272.000000</td>\n",
       "      <td>2.373711e+06</td>\n",
       "      <td>2.415841e+06</td>\n",
       "      <td>114.000000</td>\n",
       "      <td>NaN</td>\n",
       "      <td>200.000000</td>\n",
       "      <td>650.000000</td>\n",
       "    </tr>\n",
       "    <tr>\n",
       "      <th>std</th>\n",
       "      <td>NaN</td>\n",
       "      <td>76.787231</td>\n",
       "      <td>8.071542e+04</td>\n",
       "      <td>7.814786e+04</td>\n",
       "      <td>33.695488</td>\n",
       "      <td>NaN</td>\n",
       "      <td>0.659832</td>\n",
       "      <td>3.077833</td>\n",
       "    </tr>\n",
       "  </tbody>\n",
       "</table>\n",
       "</div>"
      ],
      "text/plain": [
       "                                 DATE      STORE_NBR  LYLTY_CARD_NBR  \\\n",
       "count                          246741  246741.000000    2.467410e+05   \n",
       "unique                            NaN            NaN             NaN   \n",
       "top                               NaN            NaN             NaN   \n",
       "freq                              NaN            NaN             NaN   \n",
       "mean    2018-12-30 01:19:32.745510656     135.051212    1.355311e+05   \n",
       "min               2018-07-01 00:00:00       1.000000    1.000000e+03   \n",
       "25%               2018-09-30 00:00:00      70.000000    7.001500e+04   \n",
       "50%               2018-12-30 00:00:00     130.000000    1.303670e+05   \n",
       "75%               2019-03-31 00:00:00     203.000000    2.030840e+05   \n",
       "max               2019-06-30 00:00:00     272.000000    2.373711e+06   \n",
       "std                               NaN      76.787231    8.071542e+04   \n",
       "\n",
       "              TXN_ID       PROD_NBR                               PROD_NAME  \\\n",
       "count   2.467410e+05  246741.000000                                  246741   \n",
       "unique           NaN            NaN                                     105   \n",
       "top              NaN            NaN  Kettle Mozzarella   Basil & Pesto 175g   \n",
       "freq             NaN            NaN                                    3304   \n",
       "mean    1.351312e+05      56.351835                                     NaN   \n",
       "min     1.000000e+00       1.000000                                     NaN   \n",
       "25%     6.756900e+04      26.000000                                     NaN   \n",
       "50%     1.351840e+05      53.000000                                     NaN   \n",
       "75%     2.026540e+05      87.000000                                     NaN   \n",
       "max     2.415841e+06     114.000000                                     NaN   \n",
       "std     7.814786e+04      33.695488                                     NaN   \n",
       "\n",
       "             PROD_QTY      TOT_SALES  \n",
       "count   246741.000000  246741.000000  \n",
       "unique            NaN            NaN  \n",
       "top               NaN            NaN  \n",
       "freq              NaN            NaN  \n",
       "mean         1.908061       7.321328  \n",
       "min          1.000000       1.700000  \n",
       "25%          2.000000       5.800000  \n",
       "50%          2.000000       7.400000  \n",
       "75%          2.000000       8.800000  \n",
       "max        200.000000     650.000000  \n",
       "std          0.659832       3.077833  "
      ]
     },
     "execution_count": 17,
     "metadata": {},
     "output_type": "execute_result"
    }
   ],
   "source": [
    "# check summary\n",
    "transactionData.describe(include = 'all')"
   ]
  },
  {
   "cell_type": "markdown",
   "id": "675afb25",
   "metadata": {},
   "source": [
    "-  There are no null values in the dataset\n",
    "-  Product Quantity seems to have some outliers"
   ]
  },
  {
   "cell_type": "code",
   "execution_count": 18,
   "id": "566263ce",
   "metadata": {},
   "outputs": [
    {
     "data": {
      "image/png": "[encoded data removed]",
      "text/plain": [
       "<Figure size 800x300 with 1 Axes>"
      ]
     },
     "metadata": {},
     "output_type": "display_data"
    }
   ],
   "source": [
    "# check outliers in PROD_QTY\n",
    "plt.figure(figsize= (8,3))\n",
    "plt.scatter(transactionData['PROD_QTY'],transactionData.index, alpha= 0.5)\n",
    "plt.title(\"Scatter Plot of PROD_QTY to Identify Outliers\", fontsize = 9)\n",
    "plt.show()"
   ]
  },
  {
   "cell_type": "code",
   "execution_count": 19,
   "id": "511cdac7",
   "metadata": {},
   "outputs": [
    {
     "data": {
      "text/html": [
       "<div>\n",
       "<style scoped>\n",
       "    .dataframe tbody tr th:only-of-type {\n",
       "        vertical-align: middle;\n",
       "    }\n",
       "\n",
       "    .dataframe tbody tr th {\n",
       "        vertical-align: top;\n",
       "    }\n",
       "\n",
       "    .dataframe thead th {\n",
       "        text-align: right;\n",
       "    }\n",
       "</style>\n",
       "<table border=\"1\" class=\"dataframe\">\n",
       "  <thead>\n",
       "    <tr style=\"text-align: right;\">\n",
       "      <th></th>\n",
       "      <th>DATE</th>\n",
       "      <th>STORE_NBR</th>\n",
       "      <th>LYLTY_CARD_NBR</th>\n",
       "      <th>TXN_ID</th>\n",
       "      <th>PROD_NBR</th>\n",
       "      <th>PROD_NAME</th>\n",
       "      <th>PROD_QTY</th>\n",
       "      <th>TOT_SALES</th>\n",
       "    </tr>\n",
       "  </thead>\n",
       "  <tbody>\n",
       "    <tr>\n",
       "      <th>69762</th>\n",
       "      <td>2018-08-19</td>\n",
       "      <td>226</td>\n",
       "      <td>226000</td>\n",
       "      <td>226201</td>\n",
       "      <td>4</td>\n",
       "      <td>Dorito Corn Chp     Supreme 380g</td>\n",
       "      <td>200</td>\n",
       "      <td>650.0</td>\n",
       "    </tr>\n",
       "    <tr>\n",
       "      <th>69763</th>\n",
       "      <td>2019-05-20</td>\n",
       "      <td>226</td>\n",
       "      <td>226000</td>\n",
       "      <td>226210</td>\n",
       "      <td>4</td>\n",
       "      <td>Dorito Corn Chp     Supreme 380g</td>\n",
       "      <td>200</td>\n",
       "      <td>650.0</td>\n",
       "    </tr>\n",
       "  </tbody>\n",
       "</table>\n",
       "</div>"
      ],
      "text/plain": [
       "            DATE  STORE_NBR  LYLTY_CARD_NBR  TXN_ID  PROD_NBR  \\\n",
       "69762 2018-08-19        226          226000  226201         4   \n",
       "69763 2019-05-20        226          226000  226210         4   \n",
       "\n",
       "                              PROD_NAME  PROD_QTY  TOT_SALES  \n",
       "69762  Dorito Corn Chp     Supreme 380g       200      650.0  \n",
       "69763  Dorito Corn Chp     Supreme 380g       200      650.0  "
      ]
     },
     "execution_count": 19,
     "metadata": {},
     "output_type": "execute_result"
    }
   ],
   "source": [
    "# filter the dataset to find the outlier\n",
    "transactionData[transactionData['PROD_QTY']==200]"
   ]
  },
  {
   "cell_type": "markdown",
   "id": "87beebce",
   "metadata": {},
   "source": [
    "-  There are two transactions where 200 packets of chips are bought in one transaction\n",
    " and both of these transactions were by the same customer. "
   ]
  },
  {
   "cell_type": "code",
   "execution_count": 20,
   "id": "526e7bf4",
   "metadata": {},
   "outputs": [
    {
     "data": {
      "text/html": [
       "<div>\n",
       "<style scoped>\n",
       "    .dataframe tbody tr th:only-of-type {\n",
       "        vertical-align: middle;\n",
       "    }\n",
       "\n",
       "    .dataframe tbody tr th {\n",
       "        vertical-align: top;\n",
       "    }\n",
       "\n",
       "    .dataframe thead th {\n",
       "        text-align: right;\n",
       "    }\n",
       "</style>\n",
       "<table border=\"1\" class=\"dataframe\">\n",
       "  <thead>\n",
       "    <tr style=\"text-align: right;\">\n",
       "      <th></th>\n",
       "      <th>DATE</th>\n",
       "      <th>STORE_NBR</th>\n",
       "      <th>LYLTY_CARD_NBR</th>\n",
       "      <th>TXN_ID</th>\n",
       "      <th>PROD_NBR</th>\n",
       "      <th>PROD_NAME</th>\n",
       "      <th>PROD_QTY</th>\n",
       "      <th>TOT_SALES</th>\n",
       "    </tr>\n",
       "  </thead>\n",
       "  <tbody>\n",
       "    <tr>\n",
       "      <th>69762</th>\n",
       "      <td>2018-08-19</td>\n",
       "      <td>226</td>\n",
       "      <td>226000</td>\n",
       "      <td>226201</td>\n",
       "      <td>4</td>\n",
       "      <td>Dorito Corn Chp     Supreme 380g</td>\n",
       "      <td>200</td>\n",
       "      <td>650.0</td>\n",
       "    </tr>\n",
       "    <tr>\n",
       "      <th>69763</th>\n",
       "      <td>2019-05-20</td>\n",
       "      <td>226</td>\n",
       "      <td>226000</td>\n",
       "      <td>226210</td>\n",
       "      <td>4</td>\n",
       "      <td>Dorito Corn Chp     Supreme 380g</td>\n",
       "      <td>200</td>\n",
       "      <td>650.0</td>\n",
       "    </tr>\n",
       "  </tbody>\n",
       "</table>\n",
       "</div>"
      ],
      "text/plain": [
       "            DATE  STORE_NBR  LYLTY_CARD_NBR  TXN_ID  PROD_NBR  \\\n",
       "69762 2018-08-19        226          226000  226201         4   \n",
       "69763 2019-05-20        226          226000  226210         4   \n",
       "\n",
       "                              PROD_NAME  PROD_QTY  TOT_SALES  \n",
       "69762  Dorito Corn Chp     Supreme 380g       200      650.0  \n",
       "69763  Dorito Corn Chp     Supreme 380g       200      650.0  "
      ]
     },
     "execution_count": 20,
     "metadata": {},
     "output_type": "execute_result"
    }
   ],
   "source": [
    "# filter to see what other transactions that customer has made\n",
    "transactionData[transactionData['LYLTY_CARD_NBR'] == 226000]"
   ]
  },
  {
   "cell_type": "markdown",
   "id": "5e8a22b5",
   "metadata": {},
   "source": [
    "-   The customer might be buying chips for commercial purposes instead. We'll remove this loyalty card number from further analysis since this data point would skew the analysis."
   ]
  },
  {
   "cell_type": "code",
   "execution_count": 21,
   "id": "cdbc8f53",
   "metadata": {},
   "outputs": [],
   "source": [
    "# filter out the customer based on the loyalty card number\n",
    "transactionData = transactionData[transactionData['LYLTY_CARD_NBR']!= 226000].reset_index(drop = True)"
   ]
  },
  {
   "cell_type": "code",
   "execution_count": 22,
   "id": "51e5d1f9",
   "metadata": {},
   "outputs": [
    {
     "data": {
      "text/html": [
       "<div>\n",
       "<style scoped>\n",
       "    .dataframe tbody tr th:only-of-type {\n",
       "        vertical-align: middle;\n",
       "    }\n",
       "\n",
       "    .dataframe tbody tr th {\n",
       "        vertical-align: top;\n",
       "    }\n",
       "\n",
       "    .dataframe thead th {\n",
       "        text-align: right;\n",
       "    }\n",
       "</style>\n",
       "<table border=\"1\" class=\"dataframe\">\n",
       "  <thead>\n",
       "    <tr style=\"text-align: right;\">\n",
       "      <th></th>\n",
       "      <th>DATE</th>\n",
       "      <th>TRANSACTION_COUNT</th>\n",
       "    </tr>\n",
       "  </thead>\n",
       "  <tbody>\n",
       "    <tr>\n",
       "      <th>0</th>\n",
       "      <td>2018-07-01</td>\n",
       "      <td>663</td>\n",
       "    </tr>\n",
       "    <tr>\n",
       "      <th>1</th>\n",
       "      <td>2018-07-02</td>\n",
       "      <td>650</td>\n",
       "    </tr>\n",
       "    <tr>\n",
       "      <th>2</th>\n",
       "      <td>2018-07-03</td>\n",
       "      <td>674</td>\n",
       "    </tr>\n",
       "    <tr>\n",
       "      <th>3</th>\n",
       "      <td>2018-07-04</td>\n",
       "      <td>669</td>\n",
       "    </tr>\n",
       "    <tr>\n",
       "      <th>4</th>\n",
       "      <td>2018-07-05</td>\n",
       "      <td>660</td>\n",
       "    </tr>\n",
       "    <tr>\n",
       "      <th>...</th>\n",
       "      <td>...</td>\n",
       "      <td>...</td>\n",
       "    </tr>\n",
       "    <tr>\n",
       "      <th>359</th>\n",
       "      <td>2019-06-26</td>\n",
       "      <td>657</td>\n",
       "    </tr>\n",
       "    <tr>\n",
       "      <th>360</th>\n",
       "      <td>2019-06-27</td>\n",
       "      <td>669</td>\n",
       "    </tr>\n",
       "    <tr>\n",
       "      <th>361</th>\n",
       "      <td>2019-06-28</td>\n",
       "      <td>673</td>\n",
       "    </tr>\n",
       "    <tr>\n",
       "      <th>362</th>\n",
       "      <td>2019-06-29</td>\n",
       "      <td>703</td>\n",
       "    </tr>\n",
       "    <tr>\n",
       "      <th>363</th>\n",
       "      <td>2019-06-30</td>\n",
       "      <td>704</td>\n",
       "    </tr>\n",
       "  </tbody>\n",
       "</table>\n",
       "<p>364 rows × 2 columns</p>\n",
       "</div>"
      ],
      "text/plain": [
       "          DATE  TRANSACTION_COUNT\n",
       "0   2018-07-01                663\n",
       "1   2018-07-02                650\n",
       "2   2018-07-03                674\n",
       "3   2018-07-04                669\n",
       "4   2018-07-05                660\n",
       "..         ...                ...\n",
       "359 2019-06-26                657\n",
       "360 2019-06-27                669\n",
       "361 2019-06-28                673\n",
       "362 2019-06-29                703\n",
       "363 2019-06-30                704\n",
       "\n",
       "[364 rows x 2 columns]"
      ]
     },
     "execution_count": 22,
     "metadata": {},
     "output_type": "execute_result"
    }
   ],
   "source": [
    "count_txn_id = transactionData.groupby('DATE')['TXN_ID'].count().reset_index(name='TRANSACTION_COUNT')\n",
    "count_txn_id"
   ]
  },
  {
   "cell_type": "markdown",
   "id": "c48e719a",
   "metadata": {},
   "source": [
    "-  Since there are 364 rows, one day is missing. We need to create a sequence of all dates from July 1, 2018, to June 30, 2019, to identify the missing date."
   ]
  },
  {
   "cell_type": "code",
   "execution_count": 23,
   "id": "9e131884",
   "metadata": {},
   "outputs": [
    {
     "data": {
      "text/html": [
       "<div>\n",
       "<style scoped>\n",
       "    .dataframe tbody tr th:only-of-type {\n",
       "        vertical-align: middle;\n",
       "    }\n",
       "\n",
       "    .dataframe tbody tr th {\n",
       "        vertical-align: top;\n",
       "    }\n",
       "\n",
       "    .dataframe thead th {\n",
       "        text-align: right;\n",
       "    }\n",
       "</style>\n",
       "<table border=\"1\" class=\"dataframe\">\n",
       "  <thead>\n",
       "    <tr style=\"text-align: right;\">\n",
       "      <th></th>\n",
       "      <th>DATE</th>\n",
       "    </tr>\n",
       "  </thead>\n",
       "  <tbody>\n",
       "    <tr>\n",
       "      <th>0</th>\n",
       "      <td>2018-07-01</td>\n",
       "    </tr>\n",
       "    <tr>\n",
       "      <th>1</th>\n",
       "      <td>2018-07-02</td>\n",
       "    </tr>\n",
       "    <tr>\n",
       "      <th>2</th>\n",
       "      <td>2018-07-03</td>\n",
       "    </tr>\n",
       "    <tr>\n",
       "      <th>3</th>\n",
       "      <td>2018-07-04</td>\n",
       "    </tr>\n",
       "    <tr>\n",
       "      <th>4</th>\n",
       "      <td>2018-07-05</td>\n",
       "    </tr>\n",
       "  </tbody>\n",
       "</table>\n",
       "</div>"
      ],
      "text/plain": [
       "        DATE\n",
       "0 2018-07-01\n",
       "1 2018-07-02\n",
       "2 2018-07-03\n",
       "3 2018-07-04\n",
       "4 2018-07-05"
      ]
     },
     "execution_count": 23,
     "metadata": {},
     "output_type": "execute_result"
    }
   ],
   "source": [
    "# create data points for date range from '2018-07-01' to '2019-06-30'\n",
    "date_range = pd.date_range(start = '2018-07-01', end='2019-06-30', name = 'DATE')\n",
    "date_df = pd.DataFrame(date_range)\n",
    "date_df.head()"
   ]
  },
  {
   "cell_type": "code",
   "execution_count": 24,
   "id": "3bdd2c40",
   "metadata": {},
   "outputs": [
    {
     "name": "stdout",
     "output_type": "stream",
     "text": [
      "          DATE  TRANSACTION_COUNT\n",
      "177 2018-12-25                NaN\n"
     ]
    }
   ],
   "source": [
    "# merge the date_df with the transaction counts\n",
    "transactions_by_day = pd.merge(date_df, count_txn_id, on ='DATE', how='left')\n",
    "\n",
    "# find the missing date\n",
    "missing_dates = transactions_by_day[transactions_by_day['TRANSACTION_COUNT'].isna()]\n",
    "print(missing_dates)"
   ]
  },
  {
   "cell_type": "code",
   "execution_count": 25,
   "id": "9093b344",
   "metadata": {},
   "outputs": [],
   "source": [
    "# fill the missing transaction counts with zero\n",
    "transactions_by_day['TRANSACTION_COUNT'].fillna(0, inplace = True)"
   ]
  },
  {
   "cell_type": "code",
   "execution_count": 26,
   "id": "5849ea89",
   "metadata": {},
   "outputs": [
    {
     "data": {
      "image/png": "[encoded data removed]",
      "text/plain": [
       "<Figure size 1200x400 with 1 Axes>"
      ]
     },
     "metadata": {},
     "output_type": "display_data"
    }
   ],
   "source": [
    "# plot transactions over time\n",
    "plt.figure(figsize = (12,4))\n",
    "sns.set_theme(style = 'whitegrid')\n",
    "sns.lineplot(data = transactions_by_day, x = 'DATE', y='TRANSACTION_COUNT', marker = 'o')\n",
    "plt.xlabel('Day')\n",
    "plt.ylabel('Number of Transactions')\n",
    "plt.show()"
   ]
  },
  {
   "cell_type": "code",
   "execution_count": 27,
   "id": "e2cb464d",
   "metadata": {},
   "outputs": [
    {
     "data": {
      "image/png": "[encoded data removed]",
      "text/plain": [
       "<Figure size 1200x400 with 1 Axes>"
      ]
     },
     "metadata": {},
     "output_type": "display_data"
    }
   ],
   "source": [
    "# filter transaction counts for december month\n",
    "december_transactions = transactions_by_day[transactions_by_day['DATE'].dt.month == 12]\n",
    "\n",
    "plt.figure(figsize = (12,4))\n",
    "plt.plot(december_transactions['DATE'], december_transactions['TRANSACTION_COUNT'])\n",
    "plt.xlabel('Day')\n",
    "plt.ylabel('Number of Transactions')\n",
    "plt.show()"
   ]
  },
  {
   "cell_type": "markdown",
   "id": "99dd3852",
   "metadata": {},
   "source": [
    "-  We can see that the increase in sales occurs in the lead-up to Christmas and that there are zero sales on Christmas day itself. This is due to shops being closed on Christmas day.\n",
    "-  Now that we are satisfied that the data no longer has outliers, we can move on to creating other features such as brand of chips or pack size from PROD_NAME."
   ]
  },
  {
   "cell_type": "code",
   "execution_count": 28,
   "id": "cfbab767",
   "metadata": {},
   "outputs": [
    {
     "data": {
      "text/html": [
       "<div>\n",
       "<style scoped>\n",
       "    .dataframe tbody tr th:only-of-type {\n",
       "        vertical-align: middle;\n",
       "    }\n",
       "\n",
       "    .dataframe tbody tr th {\n",
       "        vertical-align: top;\n",
       "    }\n",
       "\n",
       "    .dataframe thead th {\n",
       "        text-align: right;\n",
       "    }\n",
       "</style>\n",
       "<table border=\"1\" class=\"dataframe\">\n",
       "  <thead>\n",
       "    <tr style=\"text-align: right;\">\n",
       "      <th></th>\n",
       "      <th>DATE</th>\n",
       "      <th>STORE_NBR</th>\n",
       "      <th>LYLTY_CARD_NBR</th>\n",
       "      <th>TXN_ID</th>\n",
       "      <th>PROD_NBR</th>\n",
       "      <th>PROD_NAME</th>\n",
       "      <th>PROD_QTY</th>\n",
       "      <th>TOT_SALES</th>\n",
       "    </tr>\n",
       "  </thead>\n",
       "  <tbody>\n",
       "    <tr>\n",
       "      <th>0</th>\n",
       "      <td>2018-10-17</td>\n",
       "      <td>1</td>\n",
       "      <td>1000</td>\n",
       "      <td>1</td>\n",
       "      <td>5</td>\n",
       "      <td>Natural Chip        Compny SeaSalt175g</td>\n",
       "      <td>2</td>\n",
       "      <td>6.0</td>\n",
       "    </tr>\n",
       "    <tr>\n",
       "      <th>1</th>\n",
       "      <td>2019-05-14</td>\n",
       "      <td>1</td>\n",
       "      <td>1307</td>\n",
       "      <td>348</td>\n",
       "      <td>66</td>\n",
       "      <td>CCs Nacho Cheese    175g</td>\n",
       "      <td>3</td>\n",
       "      <td>6.3</td>\n",
       "    </tr>\n",
       "    <tr>\n",
       "      <th>2</th>\n",
       "      <td>2019-05-20</td>\n",
       "      <td>1</td>\n",
       "      <td>1343</td>\n",
       "      <td>383</td>\n",
       "      <td>61</td>\n",
       "      <td>Smiths Crinkle Cut  Chips Chicken 170g</td>\n",
       "      <td>2</td>\n",
       "      <td>2.9</td>\n",
       "    </tr>\n",
       "  </tbody>\n",
       "</table>\n",
       "</div>"
      ],
      "text/plain": [
       "        DATE  STORE_NBR  LYLTY_CARD_NBR  TXN_ID  PROD_NBR  \\\n",
       "0 2018-10-17          1            1000       1         5   \n",
       "1 2019-05-14          1            1307     348        66   \n",
       "2 2019-05-20          1            1343     383        61   \n",
       "\n",
       "                                PROD_NAME  PROD_QTY  TOT_SALES  \n",
       "0  Natural Chip        Compny SeaSalt175g         2        6.0  \n",
       "1                CCs Nacho Cheese    175g         3        6.3  \n",
       "2  Smiths Crinkle Cut  Chips Chicken 170g         2        2.9  "
      ]
     },
     "execution_count": 28,
     "metadata": {},
     "output_type": "execute_result"
    }
   ],
   "source": [
    "transactionData.head(3)"
   ]
  },
  {
   "cell_type": "code",
   "execution_count": 29,
   "id": "7ec852c3",
   "metadata": {},
   "outputs": [],
   "source": [
    "# extract the number from product name to get the pack size\n",
    "transactionData['PACK_SIZE'] = transactionData['PROD_NAME'].str.extract(r\"(\\d+)[gG]\")[0].astype('int')"
   ]
  },
  {
   "cell_type": "code",
   "execution_count": 30,
   "id": "a417947d",
   "metadata": {},
   "outputs": [
    {
     "data": {
      "text/html": [
       "<div>\n",
       "<style scoped>\n",
       "    .dataframe tbody tr th:only-of-type {\n",
       "        vertical-align: middle;\n",
       "    }\n",
       "\n",
       "    .dataframe tbody tr th {\n",
       "        vertical-align: top;\n",
       "    }\n",
       "\n",
       "    .dataframe thead th {\n",
       "        text-align: right;\n",
       "    }\n",
       "</style>\n",
       "<table border=\"1\" class=\"dataframe\">\n",
       "  <thead>\n",
       "    <tr style=\"text-align: right;\">\n",
       "      <th></th>\n",
       "      <th>DATE</th>\n",
       "      <th>STORE_NBR</th>\n",
       "      <th>LYLTY_CARD_NBR</th>\n",
       "      <th>TXN_ID</th>\n",
       "      <th>PROD_NBR</th>\n",
       "      <th>PROD_NAME</th>\n",
       "      <th>PROD_QTY</th>\n",
       "      <th>TOT_SALES</th>\n",
       "      <th>PACK_SIZE</th>\n",
       "    </tr>\n",
       "  </thead>\n",
       "  <tbody>\n",
       "    <tr>\n",
       "      <th>0</th>\n",
       "      <td>2018-10-17</td>\n",
       "      <td>1</td>\n",
       "      <td>1000</td>\n",
       "      <td>1</td>\n",
       "      <td>5</td>\n",
       "      <td>Natural Chip        Compny SeaSalt175g</td>\n",
       "      <td>2</td>\n",
       "      <td>6.0</td>\n",
       "      <td>175</td>\n",
       "    </tr>\n",
       "    <tr>\n",
       "      <th>1</th>\n",
       "      <td>2019-05-14</td>\n",
       "      <td>1</td>\n",
       "      <td>1307</td>\n",
       "      <td>348</td>\n",
       "      <td>66</td>\n",
       "      <td>CCs Nacho Cheese    175g</td>\n",
       "      <td>3</td>\n",
       "      <td>6.3</td>\n",
       "      <td>175</td>\n",
       "    </tr>\n",
       "    <tr>\n",
       "      <th>2</th>\n",
       "      <td>2019-05-20</td>\n",
       "      <td>1</td>\n",
       "      <td>1343</td>\n",
       "      <td>383</td>\n",
       "      <td>61</td>\n",
       "      <td>Smiths Crinkle Cut  Chips Chicken 170g</td>\n",
       "      <td>2</td>\n",
       "      <td>2.9</td>\n",
       "      <td>170</td>\n",
       "    </tr>\n",
       "    <tr>\n",
       "      <th>3</th>\n",
       "      <td>2018-08-17</td>\n",
       "      <td>2</td>\n",
       "      <td>2373</td>\n",
       "      <td>974</td>\n",
       "      <td>69</td>\n",
       "      <td>Smiths Chip Thinly  S/Cream&amp;Onion 175g</td>\n",
       "      <td>5</td>\n",
       "      <td>15.0</td>\n",
       "      <td>175</td>\n",
       "    </tr>\n",
       "    <tr>\n",
       "      <th>4</th>\n",
       "      <td>2018-08-18</td>\n",
       "      <td>2</td>\n",
       "      <td>2426</td>\n",
       "      <td>1038</td>\n",
       "      <td>108</td>\n",
       "      <td>Kettle Tortilla ChpsHny&amp;Jlpno Chili 150g</td>\n",
       "      <td>3</td>\n",
       "      <td>13.8</td>\n",
       "      <td>150</td>\n",
       "    </tr>\n",
       "  </tbody>\n",
       "</table>\n",
       "</div>"
      ],
      "text/plain": [
       "        DATE  STORE_NBR  LYLTY_CARD_NBR  TXN_ID  PROD_NBR  \\\n",
       "0 2018-10-17          1            1000       1         5   \n",
       "1 2019-05-14          1            1307     348        66   \n",
       "2 2019-05-20          1            1343     383        61   \n",
       "3 2018-08-17          2            2373     974        69   \n",
       "4 2018-08-18          2            2426    1038       108   \n",
       "\n",
       "                                  PROD_NAME  PROD_QTY  TOT_SALES  PACK_SIZE  \n",
       "0    Natural Chip        Compny SeaSalt175g         2        6.0        175  \n",
       "1                  CCs Nacho Cheese    175g         3        6.3        175  \n",
       "2    Smiths Crinkle Cut  Chips Chicken 170g         2        2.9        170  \n",
       "3    Smiths Chip Thinly  S/Cream&Onion 175g         5       15.0        175  \n",
       "4  Kettle Tortilla ChpsHny&Jlpno Chili 150g         3       13.8        150  "
      ]
     },
     "execution_count": 30,
     "metadata": {},
     "output_type": "execute_result"
    }
   ],
   "source": [
    "transactionData.head()"
   ]
  },
  {
   "cell_type": "code",
   "execution_count": 31,
   "id": "95e816e4",
   "metadata": {},
   "outputs": [
    {
     "name": "stdout",
     "output_type": "stream",
     "text": [
      "    PACK_SIZE  COUNT\n",
      "0          70   1507\n",
      "1          90   3008\n",
      "2         110  22387\n",
      "3         125   1454\n",
      "4         134  25102\n",
      "5         135   3257\n",
      "6         150  40203\n",
      "7         160   2970\n",
      "8         165  15297\n",
      "9         170  19983\n",
      "10        175  66389\n",
      "11        180   1468\n",
      "12        190   2995\n",
      "13        200   4473\n",
      "14        210   6272\n",
      "15        220   1564\n",
      "16        250   3169\n",
      "17        270   6285\n",
      "18        330  12540\n",
      "19        380   6416\n"
     ]
    }
   ],
   "source": [
    "# check if pack_size column makes sense\n",
    "\n",
    "# groupby pack_size and count the number of occurances\n",
    "pack_size_counts = transactionData.groupby('PACK_SIZE').size().reset_index(name='COUNT').sort_values(by='PACK_SIZE')\n",
    "print(pack_size_counts)"
   ]
  },
  {
   "cell_type": "code",
   "execution_count": 32,
   "id": "b2c2f7fb",
   "metadata": {},
   "outputs": [
    {
     "data": {
      "image/png": "[encoded data removed]",
      "text/plain": [
       "<Figure size 1200x450 with 1 Axes>"
      ]
     },
     "metadata": {},
     "output_type": "display_data"
    }
   ],
   "source": [
    "# plot a histogram of PACK_SIZE\n",
    "plt.figure(figsize = [12,4.5])\n",
    "plt.hist(x=transactionData['PACK_SIZE'], bins = range(60,400,10), edgecolor='black')\n",
    "plt.title('Transactions by Pack Sizes')\n",
    "plt.xticks(range(60,400,20))\n",
    "plt.grid(alpha = 0.7)\n",
    "plt.show()"
   ]
  },
  {
   "cell_type": "markdown",
   "id": "1267ab08",
   "metadata": {},
   "source": [
    "#### Insights:\n",
    "-  The histogram indicates that the highest number of transactions occur for pack sizes between 150g and 175g, with the peak at 175g. This suggests a strong consumer preference for these pack sizes.\n",
    "-  There are also significant transactions for pack sizes 110g, 134g. These could be secondary popular choices among consumers."
   ]
  },
  {
   "cell_type": "code",
   "execution_count": 33,
   "id": "5f628182",
   "metadata": {},
   "outputs": [],
   "source": [
    "# create brand names\n",
    "transactionData['BRAND'] = transactionData[\"PROD_NAME\"].str.split(\" \").str[0]"
   ]
  },
  {
   "cell_type": "code",
   "execution_count": 34,
   "id": "c91e1cb7",
   "metadata": {},
   "outputs": [
    {
     "data": {
      "text/html": [
       "<div>\n",
       "<style scoped>\n",
       "    .dataframe tbody tr th:only-of-type {\n",
       "        vertical-align: middle;\n",
       "    }\n",
       "\n",
       "    .dataframe tbody tr th {\n",
       "        vertical-align: top;\n",
       "    }\n",
       "\n",
       "    .dataframe thead th {\n",
       "        text-align: right;\n",
       "    }\n",
       "</style>\n",
       "<table border=\"1\" class=\"dataframe\">\n",
       "  <thead>\n",
       "    <tr style=\"text-align: right;\">\n",
       "      <th></th>\n",
       "      <th>DATE</th>\n",
       "      <th>STORE_NBR</th>\n",
       "      <th>LYLTY_CARD_NBR</th>\n",
       "      <th>TXN_ID</th>\n",
       "      <th>PROD_NBR</th>\n",
       "      <th>PROD_NAME</th>\n",
       "      <th>PROD_QTY</th>\n",
       "      <th>TOT_SALES</th>\n",
       "      <th>PACK_SIZE</th>\n",
       "      <th>BRAND</th>\n",
       "    </tr>\n",
       "  </thead>\n",
       "  <tbody>\n",
       "    <tr>\n",
       "      <th>0</th>\n",
       "      <td>2018-10-17</td>\n",
       "      <td>1</td>\n",
       "      <td>1000</td>\n",
       "      <td>1</td>\n",
       "      <td>5</td>\n",
       "      <td>Natural Chip        Compny SeaSalt175g</td>\n",
       "      <td>2</td>\n",
       "      <td>6.0</td>\n",
       "      <td>175</td>\n",
       "      <td>Natural</td>\n",
       "    </tr>\n",
       "    <tr>\n",
       "      <th>1</th>\n",
       "      <td>2019-05-14</td>\n",
       "      <td>1</td>\n",
       "      <td>1307</td>\n",
       "      <td>348</td>\n",
       "      <td>66</td>\n",
       "      <td>CCs Nacho Cheese    175g</td>\n",
       "      <td>3</td>\n",
       "      <td>6.3</td>\n",
       "      <td>175</td>\n",
       "      <td>CCs</td>\n",
       "    </tr>\n",
       "    <tr>\n",
       "      <th>2</th>\n",
       "      <td>2019-05-20</td>\n",
       "      <td>1</td>\n",
       "      <td>1343</td>\n",
       "      <td>383</td>\n",
       "      <td>61</td>\n",
       "      <td>Smiths Crinkle Cut  Chips Chicken 170g</td>\n",
       "      <td>2</td>\n",
       "      <td>2.9</td>\n",
       "      <td>170</td>\n",
       "      <td>Smiths</td>\n",
       "    </tr>\n",
       "  </tbody>\n",
       "</table>\n",
       "</div>"
      ],
      "text/plain": [
       "        DATE  STORE_NBR  LYLTY_CARD_NBR  TXN_ID  PROD_NBR  \\\n",
       "0 2018-10-17          1            1000       1         5   \n",
       "1 2019-05-14          1            1307     348        66   \n",
       "2 2019-05-20          1            1343     383        61   \n",
       "\n",
       "                                PROD_NAME  PROD_QTY  TOT_SALES  PACK_SIZE  \\\n",
       "0  Natural Chip        Compny SeaSalt175g         2        6.0        175   \n",
       "1                CCs Nacho Cheese    175g         3        6.3        175   \n",
       "2  Smiths Crinkle Cut  Chips Chicken 170g         2        2.9        170   \n",
       "\n",
       "     BRAND  \n",
       "0  Natural  \n",
       "1      CCs  \n",
       "2   Smiths  "
      ]
     },
     "execution_count": 34,
     "metadata": {},
     "output_type": "execute_result"
    }
   ],
   "source": [
    "transactionData.head(3)"
   ]
  },
  {
   "cell_type": "code",
   "execution_count": 35,
   "id": "1b27914e",
   "metadata": {},
   "outputs": [
    {
     "data": {
      "text/plain": [
       "array(['Natural', 'CCs', 'Smiths', 'Kettle', 'Grain', 'Doritos',\n",
       "       'Twisties', 'WW', 'Thins', 'Burger', 'NCC', 'Cheezels', 'Infzns',\n",
       "       'Red', 'Pringles', 'Dorito', 'Infuzions', 'Smith', 'GrnWves',\n",
       "       'Tyrrells', 'Cobs', 'French', 'RRD', 'Tostitos', 'Cheetos',\n",
       "       'Woolworths', 'Snbts', 'Sunbites'], dtype=object)"
      ]
     },
     "execution_count": 35,
     "metadata": {},
     "output_type": "execute_result"
    }
   ],
   "source": [
    "transactionData['BRAND'].unique()"
   ]
  },
  {
   "cell_type": "markdown",
   "id": "256b3395",
   "metadata": {},
   "source": [
    "#### Insights:\n",
    "-  We can observe multiple brand names that are either misspelled or abbreviated, and these would be treated as different categories in our analysis, thus we should standardize them for consistency."
   ]
  },
  {
   "cell_type": "code",
   "execution_count": 36,
   "id": "122a9d14",
   "metadata": {},
   "outputs": [],
   "source": [
    "# create a dictionary of standardized brand names\n",
    "brand_corrections = {\n",
    "    \"Dorito\": \"Doritos\",\n",
    "    \"GrnWves\": \"Grain Waves\",\n",
    "    \"Grain\": \"Grain Waves\",\n",
    "    \"Infzns\": \"Infuzions\",\n",
    "    \"Natural\": \"NCC\",\n",
    "    \"Red\": \"RRD\",\n",
    "    \"Smith\": \"Smiths\",\n",
    "    \"Snbts\": \"Sunbites\",\n",
    "    \"WW\": \"Woolworths\"\n",
    "}\n",
    "\n",
    "transactionData['BRAND'] = transactionData['BRAND'].map(brand_corrections).fillna(transactionData['BRAND']) "
   ]
  },
  {
   "cell_type": "code",
   "execution_count": 37,
   "id": "a0926e5a",
   "metadata": {},
   "outputs": [
    {
     "data": {
      "image/png": "[encoded data removed]",
      "text/plain": [
       "<Figure size 1200x450 with 1 Axes>"
      ]
     },
     "metadata": {},
     "output_type": "display_data"
    }
   ],
   "source": [
    "# plot brand distribution\n",
    "brand_counts = transactionData['BRAND'].value_counts()\n",
    "plt.figure(figsize = [12,4.5])\n",
    "brand_counts.plot(kind='bar')\n",
    "plt.title(\"Brand Distribution\")\n",
    "plt.xticks(fontsize =9)\n",
    "plt.show()"
   ]
  },
  {
   "cell_type": "markdown",
   "id": "036a4ea9",
   "metadata": {},
   "source": [
    "#### Insights:\n",
    "-  The bar chart shows that Kettle, Smiths, Doritos, and Pringles have the highest transaction counts, each exceeding 20,000 purchases. This suggests that these brands are the most popular among customers, likely due to their strong market presence, brand loyalty, or wide availability."
   ]
  },
  {
   "cell_type": "code",
   "execution_count": 38,
   "id": "1a8c7742",
   "metadata": {},
   "outputs": [
    {
     "data": {
      "text/html": [
       "<div>\n",
       "<style scoped>\n",
       "    .dataframe tbody tr th:only-of-type {\n",
       "        vertical-align: middle;\n",
       "    }\n",
       "\n",
       "    .dataframe tbody tr th {\n",
       "        vertical-align: top;\n",
       "    }\n",
       "\n",
       "    .dataframe thead th {\n",
       "        text-align: right;\n",
       "    }\n",
       "</style>\n",
       "<table border=\"1\" class=\"dataframe\">\n",
       "  <thead>\n",
       "    <tr style=\"text-align: right;\">\n",
       "      <th></th>\n",
       "      <th>DATE</th>\n",
       "      <th>STORE_NBR</th>\n",
       "      <th>LYLTY_CARD_NBR</th>\n",
       "      <th>TXN_ID</th>\n",
       "      <th>PROD_NBR</th>\n",
       "      <th>PROD_NAME</th>\n",
       "      <th>PROD_QTY</th>\n",
       "      <th>TOT_SALES</th>\n",
       "      <th>PACK_SIZE</th>\n",
       "      <th>BRAND</th>\n",
       "    </tr>\n",
       "  </thead>\n",
       "  <tbody>\n",
       "    <tr>\n",
       "      <th>0</th>\n",
       "      <td>2018-10-17</td>\n",
       "      <td>1</td>\n",
       "      <td>1000</td>\n",
       "      <td>1</td>\n",
       "      <td>5</td>\n",
       "      <td>Natural Chip        Compny SeaSalt175g</td>\n",
       "      <td>2</td>\n",
       "      <td>6.0</td>\n",
       "      <td>175</td>\n",
       "      <td>NCC</td>\n",
       "    </tr>\n",
       "    <tr>\n",
       "      <th>1</th>\n",
       "      <td>2019-05-14</td>\n",
       "      <td>1</td>\n",
       "      <td>1307</td>\n",
       "      <td>348</td>\n",
       "      <td>66</td>\n",
       "      <td>CCs Nacho Cheese    175g</td>\n",
       "      <td>3</td>\n",
       "      <td>6.3</td>\n",
       "      <td>175</td>\n",
       "      <td>CCs</td>\n",
       "    </tr>\n",
       "    <tr>\n",
       "      <th>2</th>\n",
       "      <td>2019-05-20</td>\n",
       "      <td>1</td>\n",
       "      <td>1343</td>\n",
       "      <td>383</td>\n",
       "      <td>61</td>\n",
       "      <td>Smiths Crinkle Cut  Chips Chicken 170g</td>\n",
       "      <td>2</td>\n",
       "      <td>2.9</td>\n",
       "      <td>170</td>\n",
       "      <td>Smiths</td>\n",
       "    </tr>\n",
       "    <tr>\n",
       "      <th>3</th>\n",
       "      <td>2018-08-17</td>\n",
       "      <td>2</td>\n",
       "      <td>2373</td>\n",
       "      <td>974</td>\n",
       "      <td>69</td>\n",
       "      <td>Smiths Chip Thinly  S/Cream&amp;Onion 175g</td>\n",
       "      <td>5</td>\n",
       "      <td>15.0</td>\n",
       "      <td>175</td>\n",
       "      <td>Smiths</td>\n",
       "    </tr>\n",
       "    <tr>\n",
       "      <th>4</th>\n",
       "      <td>2018-08-18</td>\n",
       "      <td>2</td>\n",
       "      <td>2426</td>\n",
       "      <td>1038</td>\n",
       "      <td>108</td>\n",
       "      <td>Kettle Tortilla ChpsHny&amp;Jlpno Chili 150g</td>\n",
       "      <td>3</td>\n",
       "      <td>13.8</td>\n",
       "      <td>150</td>\n",
       "      <td>Kettle</td>\n",
       "    </tr>\n",
       "  </tbody>\n",
       "</table>\n",
       "</div>"
      ],
      "text/plain": [
       "        DATE  STORE_NBR  LYLTY_CARD_NBR  TXN_ID  PROD_NBR  \\\n",
       "0 2018-10-17          1            1000       1         5   \n",
       "1 2019-05-14          1            1307     348        66   \n",
       "2 2019-05-20          1            1343     383        61   \n",
       "3 2018-08-17          2            2373     974        69   \n",
       "4 2018-08-18          2            2426    1038       108   \n",
       "\n",
       "                                  PROD_NAME  PROD_QTY  TOT_SALES  PACK_SIZE  \\\n",
       "0    Natural Chip        Compny SeaSalt175g         2        6.0        175   \n",
       "1                  CCs Nacho Cheese    175g         3        6.3        175   \n",
       "2    Smiths Crinkle Cut  Chips Chicken 170g         2        2.9        170   \n",
       "3    Smiths Chip Thinly  S/Cream&Onion 175g         5       15.0        175   \n",
       "4  Kettle Tortilla ChpsHny&Jlpno Chili 150g         3       13.8        150   \n",
       "\n",
       "    BRAND  \n",
       "0     NCC  \n",
       "1     CCs  \n",
       "2  Smiths  \n",
       "3  Smiths  \n",
       "4  Kettle  "
      ]
     },
     "execution_count": 38,
     "metadata": {},
     "output_type": "execute_result"
    }
   ],
   "source": [
    "transactionData.head()"
   ]
  },
  {
   "cell_type": "code",
   "execution_count": 39,
   "id": "5081200f",
   "metadata": {},
   "outputs": [
    {
     "data": {
      "text/html": [
       "<div>\n",
       "<style scoped>\n",
       "    .dataframe tbody tr th:only-of-type {\n",
       "        vertical-align: middle;\n",
       "    }\n",
       "\n",
       "    .dataframe tbody tr th {\n",
       "        vertical-align: top;\n",
       "    }\n",
       "\n",
       "    .dataframe thead th {\n",
       "        text-align: right;\n",
       "    }\n",
       "</style>\n",
       "<table border=\"1\" class=\"dataframe\">\n",
       "  <thead>\n",
       "    <tr style=\"text-align: right;\">\n",
       "      <th></th>\n",
       "      <th>LYLTY_CARD_NBR</th>\n",
       "      <th>LIFESTAGE</th>\n",
       "      <th>PREMIUM_CUSTOMER</th>\n",
       "    </tr>\n",
       "  </thead>\n",
       "  <tbody>\n",
       "    <tr>\n",
       "      <th>0</th>\n",
       "      <td>1000</td>\n",
       "      <td>YOUNG SINGLES/COUPLES</td>\n",
       "      <td>Premium</td>\n",
       "    </tr>\n",
       "    <tr>\n",
       "      <th>1</th>\n",
       "      <td>1002</td>\n",
       "      <td>YOUNG SINGLES/COUPLES</td>\n",
       "      <td>Mainstream</td>\n",
       "    </tr>\n",
       "    <tr>\n",
       "      <th>2</th>\n",
       "      <td>1003</td>\n",
       "      <td>YOUNG FAMILIES</td>\n",
       "      <td>Budget</td>\n",
       "    </tr>\n",
       "    <tr>\n",
       "      <th>3</th>\n",
       "      <td>1004</td>\n",
       "      <td>OLDER SINGLES/COUPLES</td>\n",
       "      <td>Mainstream</td>\n",
       "    </tr>\n",
       "    <tr>\n",
       "      <th>4</th>\n",
       "      <td>1005</td>\n",
       "      <td>MIDAGE SINGLES/COUPLES</td>\n",
       "      <td>Mainstream</td>\n",
       "    </tr>\n",
       "  </tbody>\n",
       "</table>\n",
       "</div>"
      ],
      "text/plain": [
       "   LYLTY_CARD_NBR               LIFESTAGE PREMIUM_CUSTOMER\n",
       "0            1000   YOUNG SINGLES/COUPLES          Premium\n",
       "1            1002   YOUNG SINGLES/COUPLES       Mainstream\n",
       "2            1003          YOUNG FAMILIES           Budget\n",
       "3            1004   OLDER SINGLES/COUPLES       Mainstream\n",
       "4            1005  MIDAGE SINGLES/COUPLES       Mainstream"
      ]
     },
     "execution_count": 39,
     "metadata": {},
     "output_type": "execute_result"
    }
   ],
   "source": [
    "# Examining customer data\n",
    "customerData.head()"
   ]
  },
  {
   "cell_type": "code",
   "execution_count": 40,
   "id": "90463dfa",
   "metadata": {},
   "outputs": [
    {
     "data": {
      "text/plain": [
       "(72637, 3)"
      ]
     },
     "execution_count": 40,
     "metadata": {},
     "output_type": "execute_result"
    }
   ],
   "source": [
    "customerData.shape"
   ]
  },
  {
   "cell_type": "code",
   "execution_count": 41,
   "id": "5b6d597c",
   "metadata": {},
   "outputs": [
    {
     "data": {
      "text/plain": [
       "LYLTY_CARD_NBR\n",
       "1000       1\n",
       "181211     1\n",
       "181217     1\n",
       "181216     1\n",
       "181215     1\n",
       "          ..\n",
       "88126      1\n",
       "88127      1\n",
       "88128      1\n",
       "88129      1\n",
       "2373711    1\n",
       "Name: count, Length: 72637, dtype: int64"
      ]
     },
     "execution_count": 41,
     "metadata": {},
     "output_type": "execute_result"
    }
   ],
   "source": [
    "customerData['LYLTY_CARD_NBR'].value_counts()"
   ]
  },
  {
   "cell_type": "code",
   "execution_count": 42,
   "id": "909836e9",
   "metadata": {},
   "outputs": [
    {
     "name": "stdout",
     "output_type": "stream",
     "text": [
      "<class 'pandas.core.frame.DataFrame'>\n",
      "RangeIndex: 72637 entries, 0 to 72636\n",
      "Data columns (total 3 columns):\n",
      " #   Column            Non-Null Count  Dtype \n",
      "---  ------            --------------  ----- \n",
      " 0   LYLTY_CARD_NBR    72637 non-null  int64 \n",
      " 1   LIFESTAGE         72637 non-null  object\n",
      " 2   PREMIUM_CUSTOMER  72637 non-null  object\n",
      "dtypes: int64(1), object(2)\n",
      "memory usage: 1.7+ MB\n"
     ]
    }
   ],
   "source": [
    "customerData.info()"
   ]
  },
  {
   "cell_type": "code",
   "execution_count": 43,
   "id": "f59c65e2",
   "metadata": {},
   "outputs": [
    {
     "data": {
      "text/plain": [
       "LIFESTAGE\n",
       "RETIREES                  14805\n",
       "OLDER SINGLES/COUPLES     14609\n",
       "YOUNG SINGLES/COUPLES     14441\n",
       "OLDER FAMILIES             9780\n",
       "YOUNG FAMILIES             9178\n",
       "MIDAGE SINGLES/COUPLES     7275\n",
       "NEW FAMILIES               2549\n",
       "Name: count, dtype: int64"
      ]
     },
     "execution_count": 43,
     "metadata": {},
     "output_type": "execute_result"
    }
   ],
   "source": [
    "customerData['LIFESTAGE'].value_counts()"
   ]
  },
  {
   "cell_type": "code",
   "execution_count": 44,
   "id": "035fcab1",
   "metadata": {},
   "outputs": [
    {
     "data": {
      "text/plain": [
       "PREMIUM_CUSTOMER\n",
       "Mainstream    29245\n",
       "Budget        24470\n",
       "Premium       18922\n",
       "Name: count, dtype: int64"
      ]
     },
     "execution_count": 44,
     "metadata": {},
     "output_type": "execute_result"
    }
   ],
   "source": [
    "customerData['PREMIUM_CUSTOMER'].value_counts()"
   ]
  },
  {
   "cell_type": "markdown",
   "id": "8a180b41",
   "metadata": {},
   "source": [
    "#### Insights\n",
    "-  The customer dataset contains 72,637 entries with no missing values.\n",
    "-  Retirees form the largest customer group, accounting for 14,805 entries.\n",
    "-  New Families have the lowest count 2,549; suggesting they might purchase fewer chips.\n",
    "-  Mainstream customers dominate, making up 29,245 of the entries.\n",
    "-  There are more Budget customers (24,470) compared to Premium customers (18,922)."
   ]
  },
  {
   "cell_type": "code",
   "execution_count": 45,
   "id": "fce8efe7",
   "metadata": {},
   "outputs": [
    {
     "data": {
      "text/html": [
       "<div>\n",
       "<style scoped>\n",
       "    .dataframe tbody tr th:only-of-type {\n",
       "        vertical-align: middle;\n",
       "    }\n",
       "\n",
       "    .dataframe tbody tr th {\n",
       "        vertical-align: top;\n",
       "    }\n",
       "\n",
       "    .dataframe thead th {\n",
       "        text-align: right;\n",
       "    }\n",
       "</style>\n",
       "<table border=\"1\" class=\"dataframe\">\n",
       "  <thead>\n",
       "    <tr style=\"text-align: right;\">\n",
       "      <th></th>\n",
       "      <th>DATE</th>\n",
       "      <th>STORE_NBR</th>\n",
       "      <th>LYLTY_CARD_NBR</th>\n",
       "      <th>TXN_ID</th>\n",
       "      <th>PROD_NBR</th>\n",
       "      <th>PROD_NAME</th>\n",
       "      <th>PROD_QTY</th>\n",
       "      <th>TOT_SALES</th>\n",
       "      <th>PACK_SIZE</th>\n",
       "      <th>BRAND</th>\n",
       "      <th>LIFESTAGE</th>\n",
       "      <th>PREMIUM_CUSTOMER</th>\n",
       "    </tr>\n",
       "  </thead>\n",
       "  <tbody>\n",
       "    <tr>\n",
       "      <th>0</th>\n",
       "      <td>2018-10-17</td>\n",
       "      <td>1</td>\n",
       "      <td>1000</td>\n",
       "      <td>1</td>\n",
       "      <td>5</td>\n",
       "      <td>Natural Chip        Compny SeaSalt175g</td>\n",
       "      <td>2</td>\n",
       "      <td>6.0</td>\n",
       "      <td>175</td>\n",
       "      <td>NCC</td>\n",
       "      <td>YOUNG SINGLES/COUPLES</td>\n",
       "      <td>Premium</td>\n",
       "    </tr>\n",
       "    <tr>\n",
       "      <th>1</th>\n",
       "      <td>2019-05-14</td>\n",
       "      <td>1</td>\n",
       "      <td>1307</td>\n",
       "      <td>348</td>\n",
       "      <td>66</td>\n",
       "      <td>CCs Nacho Cheese    175g</td>\n",
       "      <td>3</td>\n",
       "      <td>6.3</td>\n",
       "      <td>175</td>\n",
       "      <td>CCs</td>\n",
       "      <td>MIDAGE SINGLES/COUPLES</td>\n",
       "      <td>Budget</td>\n",
       "    </tr>\n",
       "    <tr>\n",
       "      <th>2</th>\n",
       "      <td>2019-05-20</td>\n",
       "      <td>1</td>\n",
       "      <td>1343</td>\n",
       "      <td>383</td>\n",
       "      <td>61</td>\n",
       "      <td>Smiths Crinkle Cut  Chips Chicken 170g</td>\n",
       "      <td>2</td>\n",
       "      <td>2.9</td>\n",
       "      <td>170</td>\n",
       "      <td>Smiths</td>\n",
       "      <td>MIDAGE SINGLES/COUPLES</td>\n",
       "      <td>Budget</td>\n",
       "    </tr>\n",
       "    <tr>\n",
       "      <th>3</th>\n",
       "      <td>2018-08-17</td>\n",
       "      <td>2</td>\n",
       "      <td>2373</td>\n",
       "      <td>974</td>\n",
       "      <td>69</td>\n",
       "      <td>Smiths Chip Thinly  S/Cream&amp;Onion 175g</td>\n",
       "      <td>5</td>\n",
       "      <td>15.0</td>\n",
       "      <td>175</td>\n",
       "      <td>Smiths</td>\n",
       "      <td>MIDAGE SINGLES/COUPLES</td>\n",
       "      <td>Budget</td>\n",
       "    </tr>\n",
       "    <tr>\n",
       "      <th>4</th>\n",
       "      <td>2018-08-18</td>\n",
       "      <td>2</td>\n",
       "      <td>2426</td>\n",
       "      <td>1038</td>\n",
       "      <td>108</td>\n",
       "      <td>Kettle Tortilla ChpsHny&amp;Jlpno Chili 150g</td>\n",
       "      <td>3</td>\n",
       "      <td>13.8</td>\n",
       "      <td>150</td>\n",
       "      <td>Kettle</td>\n",
       "      <td>MIDAGE SINGLES/COUPLES</td>\n",
       "      <td>Budget</td>\n",
       "    </tr>\n",
       "  </tbody>\n",
       "</table>\n",
       "</div>"
      ],
      "text/plain": [
       "        DATE  STORE_NBR  LYLTY_CARD_NBR  TXN_ID  PROD_NBR  \\\n",
       "0 2018-10-17          1            1000       1         5   \n",
       "1 2019-05-14          1            1307     348        66   \n",
       "2 2019-05-20          1            1343     383        61   \n",
       "3 2018-08-17          2            2373     974        69   \n",
       "4 2018-08-18          2            2426    1038       108   \n",
       "\n",
       "                                  PROD_NAME  PROD_QTY  TOT_SALES  PACK_SIZE  \\\n",
       "0    Natural Chip        Compny SeaSalt175g         2        6.0        175   \n",
       "1                  CCs Nacho Cheese    175g         3        6.3        175   \n",
       "2    Smiths Crinkle Cut  Chips Chicken 170g         2        2.9        170   \n",
       "3    Smiths Chip Thinly  S/Cream&Onion 175g         5       15.0        175   \n",
       "4  Kettle Tortilla ChpsHny&Jlpno Chili 150g         3       13.8        150   \n",
       "\n",
       "    BRAND               LIFESTAGE PREMIUM_CUSTOMER  \n",
       "0     NCC   YOUNG SINGLES/COUPLES          Premium  \n",
       "1     CCs  MIDAGE SINGLES/COUPLES           Budget  \n",
       "2  Smiths  MIDAGE SINGLES/COUPLES           Budget  \n",
       "3  Smiths  MIDAGE SINGLES/COUPLES           Budget  \n",
       "4  Kettle  MIDAGE SINGLES/COUPLES           Budget  "
      ]
     },
     "execution_count": 45,
     "metadata": {},
     "output_type": "execute_result"
    }
   ],
   "source": [
    "# merge both datasets\n",
    "merged_data = pd.merge(transactionData, customerData, on='LYLTY_CARD_NBR', how='left')\n",
    "merged_data.head()"
   ]
  },
  {
   "cell_type": "code",
   "execution_count": 46,
   "id": "50f8ed5b",
   "metadata": {},
   "outputs": [
    {
     "data": {
      "text/plain": [
       "DATE                0\n",
       "STORE_NBR           0\n",
       "LYLTY_CARD_NBR      0\n",
       "TXN_ID              0\n",
       "PROD_NBR            0\n",
       "PROD_NAME           0\n",
       "PROD_QTY            0\n",
       "TOT_SALES           0\n",
       "PACK_SIZE           0\n",
       "BRAND               0\n",
       "LIFESTAGE           0\n",
       "PREMIUM_CUSTOMER    0\n",
       "dtype: int64"
      ]
     },
     "execution_count": 46,
     "metadata": {},
     "output_type": "execute_result"
    }
   ],
   "source": [
    "merged_data.isna().sum()"
   ]
  },
  {
   "cell_type": "code",
   "execution_count": 47,
   "id": "17789388",
   "metadata": {},
   "outputs": [],
   "source": [
    "# save the merged data to a CSV file\n",
    "#file_path = \"QVI_data.csv\"\n",
    "#merged_data.to_csv(file_path, index = False)"
   ]
  },
  {
   "cell_type": "markdown",
   "id": "c69de151",
   "metadata": {},
   "source": [
    "#### Data analysis on customer segments "
   ]
  },
  {
   "cell_type": "code",
   "execution_count": 48,
   "id": "e45de4bd",
   "metadata": {},
   "outputs": [],
   "source": [
    "#merged_data = pd.read_csv(\"QVI_data.csv\")"
   ]
  },
  {
   "cell_type": "code",
   "execution_count": 49,
   "id": "63a02dcb",
   "metadata": {},
   "outputs": [
    {
     "data": {
      "text/html": [
       "<div>\n",
       "<style scoped>\n",
       "    .dataframe tbody tr th:only-of-type {\n",
       "        vertical-align: middle;\n",
       "    }\n",
       "\n",
       "    .dataframe tbody tr th {\n",
       "        vertical-align: top;\n",
       "    }\n",
       "\n",
       "    .dataframe thead th {\n",
       "        text-align: right;\n",
       "    }\n",
       "</style>\n",
       "<table border=\"1\" class=\"dataframe\">\n",
       "  <thead>\n",
       "    <tr style=\"text-align: right;\">\n",
       "      <th></th>\n",
       "      <th>DATE</th>\n",
       "      <th>STORE_NBR</th>\n",
       "      <th>LYLTY_CARD_NBR</th>\n",
       "      <th>TXN_ID</th>\n",
       "      <th>PROD_NBR</th>\n",
       "      <th>PROD_NAME</th>\n",
       "      <th>PROD_QTY</th>\n",
       "      <th>TOT_SALES</th>\n",
       "      <th>PACK_SIZE</th>\n",
       "      <th>BRAND</th>\n",
       "      <th>LIFESTAGE</th>\n",
       "      <th>PREMIUM_CUSTOMER</th>\n",
       "    </tr>\n",
       "  </thead>\n",
       "  <tbody>\n",
       "    <tr>\n",
       "      <th>0</th>\n",
       "      <td>2018-10-17</td>\n",
       "      <td>1</td>\n",
       "      <td>1000</td>\n",
       "      <td>1</td>\n",
       "      <td>5</td>\n",
       "      <td>Natural Chip        Compny SeaSalt175g</td>\n",
       "      <td>2</td>\n",
       "      <td>6.0</td>\n",
       "      <td>175</td>\n",
       "      <td>NCC</td>\n",
       "      <td>YOUNG SINGLES/COUPLES</td>\n",
       "      <td>Premium</td>\n",
       "    </tr>\n",
       "    <tr>\n",
       "      <th>1</th>\n",
       "      <td>2019-05-14</td>\n",
       "      <td>1</td>\n",
       "      <td>1307</td>\n",
       "      <td>348</td>\n",
       "      <td>66</td>\n",
       "      <td>CCs Nacho Cheese    175g</td>\n",
       "      <td>3</td>\n",
       "      <td>6.3</td>\n",
       "      <td>175</td>\n",
       "      <td>CCs</td>\n",
       "      <td>MIDAGE SINGLES/COUPLES</td>\n",
       "      <td>Budget</td>\n",
       "    </tr>\n",
       "    <tr>\n",
       "      <th>2</th>\n",
       "      <td>2019-05-20</td>\n",
       "      <td>1</td>\n",
       "      <td>1343</td>\n",
       "      <td>383</td>\n",
       "      <td>61</td>\n",
       "      <td>Smiths Crinkle Cut  Chips Chicken 170g</td>\n",
       "      <td>2</td>\n",
       "      <td>2.9</td>\n",
       "      <td>170</td>\n",
       "      <td>Smiths</td>\n",
       "      <td>MIDAGE SINGLES/COUPLES</td>\n",
       "      <td>Budget</td>\n",
       "    </tr>\n",
       "  </tbody>\n",
       "</table>\n",
       "</div>"
      ],
      "text/plain": [
       "         DATE  STORE_NBR  LYLTY_CARD_NBR  TXN_ID  PROD_NBR  \\\n",
       "0  2018-10-17          1            1000       1         5   \n",
       "1  2019-05-14          1            1307     348        66   \n",
       "2  2019-05-20          1            1343     383        61   \n",
       "\n",
       "                                PROD_NAME  PROD_QTY  TOT_SALES  PACK_SIZE  \\\n",
       "0  Natural Chip        Compny SeaSalt175g         2        6.0        175   \n",
       "1                CCs Nacho Cheese    175g         3        6.3        175   \n",
       "2  Smiths Crinkle Cut  Chips Chicken 170g         2        2.9        170   \n",
       "\n",
       "    BRAND               LIFESTAGE PREMIUM_CUSTOMER  \n",
       "0     NCC   YOUNG SINGLES/COUPLES          Premium  \n",
       "1     CCs  MIDAGE SINGLES/COUPLES           Budget  \n",
       "2  Smiths  MIDAGE SINGLES/COUPLES           Budget  "
      ]
     },
     "execution_count": 49,
     "metadata": {},
     "output_type": "execute_result"
    }
   ],
   "source": [
    "merged_data.head(3)"
   ]
  },
  {
   "cell_type": "markdown",
   "id": "e235b1c7",
   "metadata": {},
   "source": [
    "#### Total Sales Analysis\n",
    "-  Find out which customer segment contributes the most to total sales of chips.\n",
    "-  Are certain lifestages or premium categories spending more?"
   ]
  },
  {
   "cell_type": "code",
   "execution_count": 50,
   "id": "289d3ba3",
   "metadata": {},
   "outputs": [],
   "source": [
    "# group total sales by LIFESTAGE and PREMIUM_CUSTOMER\n",
    "sales_summary = merged_data.groupby(['LIFESTAGE','PREMIUM_CUSTOMER'])['TOT_SALES'].sum().reset_index()"
   ]
  },
  {
   "cell_type": "code",
   "execution_count": 51,
   "id": "13e0a593",
   "metadata": {},
   "outputs": [
    {
     "data": {
      "text/html": [
       "<div>\n",
       "<style scoped>\n",
       "    .dataframe tbody tr th:only-of-type {\n",
       "        vertical-align: middle;\n",
       "    }\n",
       "\n",
       "    .dataframe tbody tr th {\n",
       "        vertical-align: top;\n",
       "    }\n",
       "\n",
       "    .dataframe thead th {\n",
       "        text-align: right;\n",
       "    }\n",
       "</style>\n",
       "<table border=\"1\" class=\"dataframe\">\n",
       "  <thead>\n",
       "    <tr style=\"text-align: right;\">\n",
       "      <th></th>\n",
       "      <th>LIFESTAGE</th>\n",
       "      <th>PREMIUM_CUSTOMER</th>\n",
       "      <th>TOT_SALES</th>\n",
       "    </tr>\n",
       "  </thead>\n",
       "  <tbody>\n",
       "    <tr>\n",
       "      <th>0</th>\n",
       "      <td>MIDAGE SINGLES/COUPLES</td>\n",
       "      <td>Budget</td>\n",
       "      <td>33345.70</td>\n",
       "    </tr>\n",
       "    <tr>\n",
       "      <th>1</th>\n",
       "      <td>MIDAGE SINGLES/COUPLES</td>\n",
       "      <td>Mainstream</td>\n",
       "      <td>84734.25</td>\n",
       "    </tr>\n",
       "    <tr>\n",
       "      <th>2</th>\n",
       "      <td>MIDAGE SINGLES/COUPLES</td>\n",
       "      <td>Premium</td>\n",
       "      <td>54443.85</td>\n",
       "    </tr>\n",
       "    <tr>\n",
       "      <th>3</th>\n",
       "      <td>NEW FAMILIES</td>\n",
       "      <td>Budget</td>\n",
       "      <td>20607.45</td>\n",
       "    </tr>\n",
       "    <tr>\n",
       "      <th>4</th>\n",
       "      <td>NEW FAMILIES</td>\n",
       "      <td>Mainstream</td>\n",
       "      <td>15979.70</td>\n",
       "    </tr>\n",
       "    <tr>\n",
       "      <th>5</th>\n",
       "      <td>NEW FAMILIES</td>\n",
       "      <td>Premium</td>\n",
       "      <td>10760.80</td>\n",
       "    </tr>\n",
       "    <tr>\n",
       "      <th>6</th>\n",
       "      <td>OLDER FAMILIES</td>\n",
       "      <td>Budget</td>\n",
       "      <td>156863.75</td>\n",
       "    </tr>\n",
       "    <tr>\n",
       "      <th>7</th>\n",
       "      <td>OLDER FAMILIES</td>\n",
       "      <td>Mainstream</td>\n",
       "      <td>96413.55</td>\n",
       "    </tr>\n",
       "    <tr>\n",
       "      <th>8</th>\n",
       "      <td>OLDER FAMILIES</td>\n",
       "      <td>Premium</td>\n",
       "      <td>75242.60</td>\n",
       "    </tr>\n",
       "    <tr>\n",
       "      <th>9</th>\n",
       "      <td>OLDER SINGLES/COUPLES</td>\n",
       "      <td>Budget</td>\n",
       "      <td>127833.60</td>\n",
       "    </tr>\n",
       "    <tr>\n",
       "      <th>10</th>\n",
       "      <td>OLDER SINGLES/COUPLES</td>\n",
       "      <td>Mainstream</td>\n",
       "      <td>124648.50</td>\n",
       "    </tr>\n",
       "    <tr>\n",
       "      <th>11</th>\n",
       "      <td>OLDER SINGLES/COUPLES</td>\n",
       "      <td>Premium</td>\n",
       "      <td>123531.55</td>\n",
       "    </tr>\n",
       "    <tr>\n",
       "      <th>12</th>\n",
       "      <td>RETIREES</td>\n",
       "      <td>Budget</td>\n",
       "      <td>105916.30</td>\n",
       "    </tr>\n",
       "    <tr>\n",
       "      <th>13</th>\n",
       "      <td>RETIREES</td>\n",
       "      <td>Mainstream</td>\n",
       "      <td>145168.95</td>\n",
       "    </tr>\n",
       "    <tr>\n",
       "      <th>14</th>\n",
       "      <td>RETIREES</td>\n",
       "      <td>Premium</td>\n",
       "      <td>91296.65</td>\n",
       "    </tr>\n",
       "    <tr>\n",
       "      <th>15</th>\n",
       "      <td>YOUNG FAMILIES</td>\n",
       "      <td>Budget</td>\n",
       "      <td>129717.95</td>\n",
       "    </tr>\n",
       "    <tr>\n",
       "      <th>16</th>\n",
       "      <td>YOUNG FAMILIES</td>\n",
       "      <td>Mainstream</td>\n",
       "      <td>86338.25</td>\n",
       "    </tr>\n",
       "    <tr>\n",
       "      <th>17</th>\n",
       "      <td>YOUNG FAMILIES</td>\n",
       "      <td>Premium</td>\n",
       "      <td>78571.70</td>\n",
       "    </tr>\n",
       "    <tr>\n",
       "      <th>18</th>\n",
       "      <td>YOUNG SINGLES/COUPLES</td>\n",
       "      <td>Budget</td>\n",
       "      <td>57122.10</td>\n",
       "    </tr>\n",
       "    <tr>\n",
       "      <th>19</th>\n",
       "      <td>YOUNG SINGLES/COUPLES</td>\n",
       "      <td>Mainstream</td>\n",
       "      <td>147582.20</td>\n",
       "    </tr>\n",
       "    <tr>\n",
       "      <th>20</th>\n",
       "      <td>YOUNG SINGLES/COUPLES</td>\n",
       "      <td>Premium</td>\n",
       "      <td>39052.30</td>\n",
       "    </tr>\n",
       "  </tbody>\n",
       "</table>\n",
       "</div>"
      ],
      "text/plain": [
       "                 LIFESTAGE PREMIUM_CUSTOMER  TOT_SALES\n",
       "0   MIDAGE SINGLES/COUPLES           Budget   33345.70\n",
       "1   MIDAGE SINGLES/COUPLES       Mainstream   84734.25\n",
       "2   MIDAGE SINGLES/COUPLES          Premium   54443.85\n",
       "3             NEW FAMILIES           Budget   20607.45\n",
       "4             NEW FAMILIES       Mainstream   15979.70\n",
       "5             NEW FAMILIES          Premium   10760.80\n",
       "6           OLDER FAMILIES           Budget  156863.75\n",
       "7           OLDER FAMILIES       Mainstream   96413.55\n",
       "8           OLDER FAMILIES          Premium   75242.60\n",
       "9    OLDER SINGLES/COUPLES           Budget  127833.60\n",
       "10   OLDER SINGLES/COUPLES       Mainstream  124648.50\n",
       "11   OLDER SINGLES/COUPLES          Premium  123531.55\n",
       "12                RETIREES           Budget  105916.30\n",
       "13                RETIREES       Mainstream  145168.95\n",
       "14                RETIREES          Premium   91296.65\n",
       "15          YOUNG FAMILIES           Budget  129717.95\n",
       "16          YOUNG FAMILIES       Mainstream   86338.25\n",
       "17          YOUNG FAMILIES          Premium   78571.70\n",
       "18   YOUNG SINGLES/COUPLES           Budget   57122.10\n",
       "19   YOUNG SINGLES/COUPLES       Mainstream  147582.20\n",
       "20   YOUNG SINGLES/COUPLES          Premium   39052.30"
      ]
     },
     "execution_count": 51,
     "metadata": {},
     "output_type": "execute_result"
    }
   ],
   "source": [
    "sales_summary"
   ]
  },
  {
   "cell_type": "code",
   "execution_count": 52,
   "id": "0d9933a2",
   "metadata": {},
   "outputs": [
    {
     "data": {
      "image/png": "[encoded data removed]",
      "text/plain": [
       "<Figure size 2000x600 with 1 Axes>"
      ]
     },
     "metadata": {},
     "output_type": "display_data"
    }
   ],
   "source": [
    "# Create a bar plot to show total sales by segment\n",
    "plt.figure(figsize=(20, 6))\n",
    "ax = sns.barplot(data=sales_summary, x='LIFESTAGE', y='TOT_SALES', hue='PREMIUM_CUSTOMER', palette='viridis')\n",
    "\n",
    "for container in ax.containers:\n",
    "    ax.bar_label(container, fmt=\"%.1f\", fontsize = 10)\n",
    "\n",
    "plt.title(\"Total Sales by Lifestage and Customer Type\")\n",
    "plt.show()"
   ]
  },
  {
   "cell_type": "markdown",
   "id": "55128da2",
   "metadata": {},
   "source": [
    "#### Insights:\n",
    "-  Based on total sales data, Older Families, Older singles/couples and retirees are the highest spenders on chips among the lifestages. This lifestage contributes the most to the overall chip sales.\n",
    "-  New families are the lowest spenders."
   ]
  },
  {
   "cell_type": "code",
   "execution_count": 53,
   "id": "6f511501",
   "metadata": {},
   "outputs": [
    {
     "data": {
      "image/png": "[encoded data removed]",
      "text/plain": [
       "<Figure size 1200x600 with 1 Axes>"
      ]
     },
     "metadata": {},
     "output_type": "display_data"
    }
   ],
   "source": [
    "# let us visualize the distribution of different customer segments within each lifestage group to understand better\n",
    "\n",
    "# create a pivot table to get percentage distribution\n",
    "stacked_data = sales_summary.pivot(index='LIFESTAGE', columns='PREMIUM_CUSTOMER', values='TOT_SALES')\n",
    "stacked_data = stacked_data.div(stacked_data.sum(axis=1), axis=0)*100\n",
    "\n",
    "# plot stacked bar chart\n",
    "fig,ax = plt.subplots(figsize = (12,6))\n",
    "stacked_data.plot(kind='barh', stacked = True, ax=ax, colormap = 'Set2')\n",
    "# add labels\n",
    "for i, (index,row) in enumerate(stacked_data.iterrows()):\n",
    "    left = 0\n",
    "    for col in stacked_data.columns:\n",
    "        value = row[col]\n",
    "        ax.annotate(f\"{value:.1f}%\", xy=(left+value/2, i), color = 'white', fontweight = 'bold', ha='center', va='center')\n",
    "        left+=value\n",
    "\n",
    "plt.title(\"Total sales by Lifestages and Customer Types\")\n",
    "plt.xlabel('Percentage sales')\n",
    "plt.legend(title='Premium Customer Type', bbox_to_anchor=(1.05, 1))\n",
    "plt.xlim(0,100)\n",
    "plt.show()"
   ]
  },
  {
   "cell_type": "markdown",
   "id": "d69335ab",
   "metadata": {},
   "source": [
    "#### Insights:\n",
    "-  Older Singles/couples show an even distribution across all the three customer segments but they also lead in premium customer spending, suggesting a preference for premium products.\n",
    "-  Mainstream customers constitute the largest segment among Young Singles/Couples, Older Singles/Couples, and Retirees. This suggests that these lifestages favor mid-range priced chips.\n",
    "-  Older Families lifestage contribute the most to total sales across all lifestages, yet their highest sales comes from the budget customer segment. Similarly, the budget customer category or budget spending is mostly found among Young Families and New Families lifestages."
   ]
  },
  {
   "cell_type": "markdown",
   "id": "db4ef7c1",
   "metadata": {},
   "source": [
    "-----------"
   ]
  },
  {
   "cell_type": "markdown",
   "id": "747f34f0",
   "metadata": {},
   "source": [
    "#### Number of Customers per Segment\n",
    "-  Check how many customers exist in each segment.\n",
    "-  This helps determine if high sales come from more customers or higher spending per customer."
   ]
  },
  {
   "cell_type": "code",
   "execution_count": 54,
   "id": "08b05a38",
   "metadata": {},
   "outputs": [
    {
     "name": "stdout",
     "output_type": "stream",
     "text": [
      "PREMIUM_CUSTOMER        Budget  Mainstream  Premium  TOTAL\n",
      "LIFESTAGE                                                 \n",
      "RETIREES                  4385        6358     3812  14555\n",
      "OLDER SINGLES/COUPLES     4849        4858     4682  14389\n",
      "YOUNG SINGLES/COUPLES     3647        7917     2480  14044\n",
      "OLDER FAMILIES            4611        2788     2231   9630\n",
      "YOUNG FAMILIES            3953        2685     2398   9036\n",
      "MIDAGE SINGLES/COUPLES    1474        3298     2369   7141\n",
      "NEW FAMILIES              1087         830      575   2492\n"
     ]
    }
   ],
   "source": [
    "# count the number of unique customers in each customer segment\n",
    "no_of_cust = pd.pivot_table(merged_data, index='LIFESTAGE', columns='PREMIUM_CUSTOMER', values='LYLTY_CARD_NBR',\n",
    "                                  aggfunc='nunique')\n",
    "no_of_cust['TOTAL'] = no_of_cust.sum(axis=1)\n",
    "\n",
    "percentage_of_cust = no_of_cust.div(no_of_cust['TOTAL'], axis=0)*100\n",
    "percentage_of_cust = percentage_of_cust.drop(columns=['TOTAL'])\n",
    "no_of_cust = no_of_cust.sort_values(by='TOTAL', ascending = False)\n",
    "print(no_of_cust)"
   ]
  },
  {
   "cell_type": "code",
   "execution_count": 55,
   "id": "8d72c575",
   "metadata": {},
   "outputs": [
    {
     "data": {
      "image/png": "[encoded data removed]",
      "text/plain": [
       "<Figure size 1200x600 with 1 Axes>"
      ]
     },
     "metadata": {},
     "output_type": "display_data"
    }
   ],
   "source": [
    "fig,ax = plt.subplots(figsize = (12,6))\n",
    "\n",
    "# plot a stacked bar chart\n",
    "colors = sns.color_palette(\"viridis\", n_colors=3)\n",
    "\n",
    "no_of_cust.iloc[:,:-1].plot(kind = 'barh', stacked = True, ax=ax, color = colors)\n",
    "\n",
    "for i, (index,row) in enumerate(no_of_cust.iloc[:,:-1].iterrows()):\n",
    "    left = 0\n",
    "    for col in no_of_cust.columns[:-1]:\n",
    "        value=row[col]\n",
    "        percent = percentage_of_cust.loc[index,col]\n",
    "        if value>0:\n",
    "            ax.annotate(f\"{percent:.1f}%\", xy = (left+value/2, i), ha='center', va='center', color='white', fontweight = 'bold',fontsize =9)\n",
    "        left+=value\n",
    "\n",
    "ax.set_title(\"Customer count per Segment\")\n",
    "ax.set_xlabel('Number of Customers')\n",
    "ax.tick_params(axis='y', labelsize=9)\n",
    "plt.legend(title='Premium Customer Type', bbox_to_anchor=(1.05, 1))\n",
    "plt.show()"
   ]
  },
  {
   "cell_type": "markdown",
   "id": "ff72f3eb",
   "metadata": {},
   "source": [
    "#### Insights:\n",
    "-  Mainstream customers are higher in number among Young Singles/Couples and Retirees. This aligns with higher sales in these segments, suggesting that their total sales contribution is driven by having more customers.\n",
    "-  Whereas, Budget customers are more prevalent in Older Families and Young Families. This matches with higher sales in these segments, meaning the total sales here are also likely driven by a larger customer base rather than individual spending behavior."
   ]
  },
  {
   "cell_type": "markdown",
   "id": "409162cf",
   "metadata": {},
   "source": [
    "#### Chips Bought Per Customer\n",
    "-  Calculate the average number of chips bought per customer in each segment.\n",
    "-  This tells us if some segments buy chips in bulk more often."
   ]
  },
  {
   "cell_type": "code",
   "execution_count": 57,
   "id": "abfe4b39",
   "metadata": {},
   "outputs": [
    {
     "data": {
      "text/html": [
       "<div>\n",
       "<style scoped>\n",
       "    .dataframe tbody tr th:only-of-type {\n",
       "        vertical-align: middle;\n",
       "    }\n",
       "\n",
       "    .dataframe tbody tr th {\n",
       "        vertical-align: top;\n",
       "    }\n",
       "\n",
       "    .dataframe thead th {\n",
       "        text-align: right;\n",
       "    }\n",
       "</style>\n",
       "<table border=\"1\" class=\"dataframe\">\n",
       "  <thead>\n",
       "    <tr style=\"text-align: right;\">\n",
       "      <th></th>\n",
       "      <th>DATE</th>\n",
       "      <th>STORE_NBR</th>\n",
       "      <th>LYLTY_CARD_NBR</th>\n",
       "      <th>TXN_ID</th>\n",
       "      <th>PROD_NBR</th>\n",
       "      <th>PROD_NAME</th>\n",
       "      <th>PROD_QTY</th>\n",
       "      <th>TOT_SALES</th>\n",
       "      <th>PACK_SIZE</th>\n",
       "      <th>BRAND</th>\n",
       "      <th>LIFESTAGE</th>\n",
       "      <th>PREMIUM_CUSTOMER</th>\n",
       "    </tr>\n",
       "  </thead>\n",
       "  <tbody>\n",
       "    <tr>\n",
       "      <th>0</th>\n",
       "      <td>2018-10-17</td>\n",
       "      <td>1</td>\n",
       "      <td>1000</td>\n",
       "      <td>1</td>\n",
       "      <td>5</td>\n",
       "      <td>Natural Chip        Compny SeaSalt175g</td>\n",
       "      <td>2</td>\n",
       "      <td>6.0</td>\n",
       "      <td>175</td>\n",
       "      <td>NCC</td>\n",
       "      <td>YOUNG SINGLES/COUPLES</td>\n",
       "      <td>Premium</td>\n",
       "    </tr>\n",
       "    <tr>\n",
       "      <th>1</th>\n",
       "      <td>2019-05-14</td>\n",
       "      <td>1</td>\n",
       "      <td>1307</td>\n",
       "      <td>348</td>\n",
       "      <td>66</td>\n",
       "      <td>CCs Nacho Cheese    175g</td>\n",
       "      <td>3</td>\n",
       "      <td>6.3</td>\n",
       "      <td>175</td>\n",
       "      <td>CCs</td>\n",
       "      <td>MIDAGE SINGLES/COUPLES</td>\n",
       "      <td>Budget</td>\n",
       "    </tr>\n",
       "    <tr>\n",
       "      <th>2</th>\n",
       "      <td>2019-05-20</td>\n",
       "      <td>1</td>\n",
       "      <td>1343</td>\n",
       "      <td>383</td>\n",
       "      <td>61</td>\n",
       "      <td>Smiths Crinkle Cut  Chips Chicken 170g</td>\n",
       "      <td>2</td>\n",
       "      <td>2.9</td>\n",
       "      <td>170</td>\n",
       "      <td>Smiths</td>\n",
       "      <td>MIDAGE SINGLES/COUPLES</td>\n",
       "      <td>Budget</td>\n",
       "    </tr>\n",
       "  </tbody>\n",
       "</table>\n",
       "</div>"
      ],
      "text/plain": [
       "         DATE  STORE_NBR  LYLTY_CARD_NBR  TXN_ID  PROD_NBR  \\\n",
       "0  2018-10-17          1            1000       1         5   \n",
       "1  2019-05-14          1            1307     348        66   \n",
       "2  2019-05-20          1            1343     383        61   \n",
       "\n",
       "                                PROD_NAME  PROD_QTY  TOT_SALES  PACK_SIZE  \\\n",
       "0  Natural Chip        Compny SeaSalt175g         2        6.0        175   \n",
       "1                CCs Nacho Cheese    175g         3        6.3        175   \n",
       "2  Smiths Crinkle Cut  Chips Chicken 170g         2        2.9        170   \n",
       "\n",
       "    BRAND               LIFESTAGE PREMIUM_CUSTOMER  \n",
       "0     NCC   YOUNG SINGLES/COUPLES          Premium  \n",
       "1     CCs  MIDAGE SINGLES/COUPLES           Budget  \n",
       "2  Smiths  MIDAGE SINGLES/COUPLES           Budget  "
      ]
     },
     "execution_count": 57,
     "metadata": {},
     "output_type": "execute_result"
    }
   ],
   "source": [
    "merged_data.head(3)"
   ]
  },
  {
   "cell_type": "code",
   "execution_count": 82,
   "id": "b0f8c156",
   "metadata": {
    "scrolled": false
   },
   "outputs": [
    {
     "data": {
      "image/png": "[encoded data removed]",
      "text/plain": [
       "<Figure size 1200x500 with 1 Axes>"
      ]
     },
     "metadata": {},
     "output_type": "display_data"
    }
   ],
   "source": [
    "# total chips bought within each customer segment\n",
    "total_qty = merged_data.groupby(['LIFESTAGE','PREMIUM_CUSTOMER'])['PROD_QTY'].sum()\n",
    "unique_cust = merged_data.groupby(['LIFESTAGE','PREMIUM_CUSTOMER'])['LYLTY_CARD_NBR'].nunique()\n",
    "\n",
    "avg_chips_per_cust = (total_qty/unique_cust).to_frame(name='AVG_CHIPS')\n",
    "avg_chips_per_cust = avg_chips_per_cust.sort_values(by='AVG_CHIPS', ascending = False)\n",
    "\n",
    "#plot\n",
    "plt.figure(figsize = (12,5))\n",
    "sns.barplot(data=avg_chips_per_cust, x='LIFESTAGE', y='AVG_CHIPS', hue='PREMIUM_CUSTOMER', palette = 'Blues')\n",
    "plt.title('Number of Unit per Customer Segment')\n",
    "plt.xticks(fontsize = 8, rotation =10)\n",
    "plt.xlabel(\"LIFESTAGE\", fontsize=10)\n",
    "plt.legend(title=\"Premium Customer\")\n",
    "plt.show()"
   ]
  },
  {
   "cell_type": "markdown",
   "id": "51fab65f",
   "metadata": {},
   "source": [
    "#### Insights\n",
    "-  While Older Families and Young Families don't have the highest customer counts, these customers buy more chips on average than those in other lifestages, this suggests these customers prefer bulk buying rather than frequent small purchases."
   ]
  },
  {
   "cell_type": "markdown",
   "id": "b7c8f1d4",
   "metadata": {},
   "source": [
    "#### Average Price Per Unit Sold\n",
    "-  Find the average price per packet of chips purchased by each segment."
   ]
  },
  {
   "cell_type": "code",
   "execution_count": 86,
   "id": "7290a349",
   "metadata": {},
   "outputs": [],
   "source": [
    "# average price per unit for each segment\n",
    "avg_price = merged_data.groupby([\"LIFESTAGE\", \"PREMIUM_CUSTOMER\"]).agg(\n",
    "    TOTAL_SALES=(\"TOT_SALES\", \"sum\"), TOTAL_UNITS=(\"PROD_QTY\", \"sum\")).reset_index()\n",
    "\n",
    "avg_price[\"AVG_PRICE_PER_UNIT\"] = avg_price[\"TOTAL_SALES\"] / avg_price[\"TOTAL_UNITS\"]\n",
    "avg_price = avg_price.sort_values(by=\"AVG_PRICE_PER_UNIT\", ascending=False)"
   ]
  },
  {
   "cell_type": "code",
   "execution_count": 89,
   "id": "66bae0d6",
   "metadata": {},
   "outputs": [
    {
     "data": {
      "image/png": "[encoded data removed]",
      "text/plain": [
       "<Figure size 1200x500 with 1 Axes>"
      ]
     },
     "metadata": {},
     "output_type": "display_data"
    }
   ],
   "source": [
    "# visualize\n",
    "plt.figure(figsize=(12,5))\n",
    "sns.barplot(data=avg_price, x='LIFESTAGE', y='AVG_PRICE_PER_UNIT', hue='PREMIUM_CUSTOMER', palette = 'Reds')\n",
    "plt.title('Average price per unit')\n",
    "plt.xticks(fontsize = 8, rotation =10)\n",
    "plt.xlabel(\"LIFESTAGE\", fontsize=10)\n",
    "plt.legend(title=\"Premium Customer\", bbox_to_anchor=(1.05, 1))\n",
    "plt.show()"
   ]
  },
  {
   "cell_type": "markdown",
   "id": "8f57eae8",
   "metadata": {},
   "source": [
    "#### Insights:\n",
    "-  Mainstream Midage & Young Singles/Couples have the highest price per unit, meaning they are willing to spend more per packet of chips.\n",
    "-  Other segments don't have significant price differences, for example Premium Retirees and Budget Retirees have nearly the same price per unit around 3.92 & 3.93 respectively, might suggest that they shop based on deals rather than strict price categories."
   ]
  },
  {
   "cell_type": "markdown",
   "id": "316b8b6c",
   "metadata": {},
   "source": [
    "----------------------------------"
   ]
  },
  {
   "cell_type": "markdown",
   "id": "251ce1eb",
   "metadata": {},
   "source": [
    "#### Perform an independent t-test to check whether the average price per unit is significantly different between:\n",
    "-  Mainstream Midage & Young Singles/Couples\n",
    "-  Budget & Premium Midage & Young Singles/Couples"
   ]
  },
  {
   "cell_type": "code",
   "execution_count": 100,
   "id": "c126d7e0",
   "metadata": {},
   "outputs": [
    {
     "name": "stdout",
     "output_type": "stream",
     "text": [
      "T-test statistic: 37.6243885962295\n",
      "P-value: 3.4836771165090696e-306\n"
     ]
    }
   ],
   "source": [
    "import scipy.stats as stats\n",
    "\n",
    "# extract groups and get price per unit \n",
    "mainstream_prices = merged_data[(merged_data[\"LIFESTAGE\"].isin([\"YOUNG SINGLES/COUPLES\", \"MIDAGE SINGLES/COUPLES\"])) & \n",
    "    (merged_data[\"PREMIUM_CUSTOMER\"] == \"Mainstream\")].copy()\n",
    "\n",
    "mainstream_prices[\"PRICE_PER_UNIT\"] = mainstream_prices[\"TOT_SALES\"] / mainstream_prices[\"PROD_QTY\"]\n",
    "mainstream_prices = mainstream_prices[\"PRICE_PER_UNIT\"]\n",
    "\n",
    "budget_premium_prices = merged_data[(merged_data[\"LIFESTAGE\"].isin([\"YOUNG SINGLES/COUPLES\", \"MIDAGE SINGLES/COUPLES\"])) & \n",
    "    (merged_data[\"PREMIUM_CUSTOMER\"] != \"Mainstream\")].copy()\n",
    "\n",
    "budget_premium_prices[\"PRICE_PER_UNIT\"] = budget_premium_prices[\"TOT_SALES\"] / budget_premium_prices[\"PROD_QTY\"]\n",
    "budget_premium_prices = budget_premium_prices[\"PRICE_PER_UNIT\"] \n",
    "\n",
    "# perform t-test \n",
    "t_stat, p_value = stats.ttest_ind(mainstream_prices, budget_premium_prices, equal_var=False, nan_policy='omit')\n",
    "\n",
    "# One-tailed p-value adjustment\n",
    "p_value_one_tailed = p_value / 2 if t_stat > 0 else 1 - (p_value / 2)\n",
    "\n",
    "print(f\"T-test statistic: {t_stat}\")\n",
    "print(f\"P-value: {p_value_one_tailed}\")"
   ]
  },
  {
   "cell_type": "markdown",
   "id": "0e7bb921",
   "metadata": {},
   "source": [
    "#### Insights:\n",
    "-  The p-value (3.48e-306) is almost zero, meaning the difference is statistically significant. We reject the null hypothesis and confirm that mainstream customers in these segments pay more per unit compared to budget/premium customers.\n",
    "-  Reasons might be because they are less price-sensitive and might prefer quality, branding, or convenience over price."
   ]
  },
  {
   "cell_type": "markdown",
   "id": "7aaa74bb",
   "metadata": {},
   "source": [
    "--------------------------------------------"
   ]
  },
  {
   "cell_type": "markdown",
   "id": "a53d319c",
   "metadata": {},
   "source": [
    "#### Analyze brand preference among Mainstream Young Singles/Couples"
   ]
  },
  {
   "cell_type": "code",
   "execution_count": 116,
   "id": "cf94b8c2",
   "metadata": {},
   "outputs": [],
   "source": [
    "# total quantity of chips bought by Mainstream Young Singles/Couples\n",
    "segment1 = merged_data[(merged_data[\"LIFESTAGE\"] == \"YOUNG SINGLES/COUPLES\") & (merged_data[\"PREMIUM_CUSTOMER\"] == \"Mainstream\")]\n",
    "\n",
    "# total quantity of chips bought by everyone else\n",
    "other =  merged_data[~((merged_data[\"LIFESTAGE\"] == \"YOUNG SINGLES/COUPLES\") & (merged_data[\"PREMIUM_CUSTOMER\"] == \"Mainstream\"))]\n",
    "\n",
    "# total quantity of chips purchased by each group\n",
    "total_qty_segment1 = segment1[\"PROD_QTY\"].sum()\n",
    "total_qty_other = other[\"PROD_QTY\"].sum()\n",
    "\n",
    "# proportion of each brand within the segment\n",
    "qty_segment1_by_brand = segment1.groupby(\"BRAND\")[\"PROD_QTY\"].sum() / total_qty_segment1\n",
    "\n",
    "# proportion of each brand within the rest of the population\n",
    "qty_other_by_brand = other.groupby(\"BRAND\")[\"PROD_QTY\"].sum()/ total_qty_other"
   ]
  },
  {
   "cell_type": "code",
   "execution_count": 117,
   "id": "1ec04326",
   "metadata": {},
   "outputs": [
    {
     "data": {
      "image/png": "[encoded data removed]",
      "text/plain": [
       "<Figure size 1400x500 with 2 Axes>"
      ]
     },
     "metadata": {},
     "output_type": "display_data"
    }
   ],
   "source": [
    "# convert proportions to percentages\n",
    "segment1_in_per = qty_segment1_by_brand *100\n",
    "other_in_per = qty_other_by_brand * 100\n",
    "\n",
    "# get the top 5 brands for each \n",
    "top5_segment1 = segment1_in_per.nlargest(5)\n",
    "top5_other = other_in_per.loc[top5_segment1.index]  # Ensure same brands in both charts\n",
    "\n",
    "# plot \n",
    "fig, axes = plt.subplots(1, 2, figsize=(14, 5), sharey=True)\n",
    "\n",
    "sns.barplot(x=top5_segment1.index, y=top5_segment1.values, ax=axes[0], palette=\"Blues_r\")\n",
    "axes[0].set_title(\"Top 5 Brands - Mainstream Young Singles/Couples\")\n",
    "axes[0].set_ylabel(\"Percentage of Total Chips Purchased\")\n",
    "axes[0].set_xlabel(\"Brand\")\n",
    "axes[0].set_ylim(0, top5_segment1.max() + 5)\n",
    "\n",
    "sns.barplot(x=top5_other.index, y=top5_other.values, ax=axes[1], palette=\"Greens_r\")\n",
    "axes[1].set_title(\"Top 5 Brands - Other Customers\")\n",
    "axes[1].set_xlabel(\"Brand\")\n",
    "axes[1].set_ylim(0, top5_segment1.max() + 5)\n",
    "plt.tight_layout()\n",
    "plt.show()"
   ]
  },
  {
   "cell_type": "markdown",
   "id": "569b4a4f",
   "metadata": {},
   "source": [
    "-  Kettle, Doritos, Pringles, Smiths, and Infuzions have the highest total purchases, but are these brands more popular among the target group compared to the rest of the population."
   ]
  },
  {
   "cell_type": "code",
   "execution_count": 127,
   "id": "bf122580",
   "metadata": {},
   "outputs": [
    {
     "data": {
      "text/html": [
       "<div>\n",
       "<style scoped>\n",
       "    .dataframe tbody tr th:only-of-type {\n",
       "        vertical-align: middle;\n",
       "    }\n",
       "\n",
       "    .dataframe tbody tr th {\n",
       "        vertical-align: top;\n",
       "    }\n",
       "\n",
       "    .dataframe thead th {\n",
       "        text-align: right;\n",
       "    }\n",
       "</style>\n",
       "<table border=\"1\" class=\"dataframe\">\n",
       "  <thead>\n",
       "    <tr style=\"text-align: right;\">\n",
       "      <th></th>\n",
       "      <th>BRAND</th>\n",
       "      <th>targetSegment</th>\n",
       "      <th>otherCustomers</th>\n",
       "      <th>affinityToBrand</th>\n",
       "    </tr>\n",
       "  </thead>\n",
       "  <tbody>\n",
       "    <tr>\n",
       "      <th>18</th>\n",
       "      <td>Tyrrells</td>\n",
       "      <td>0.031553</td>\n",
       "      <td>0.025693</td>\n",
       "      <td>1.228090</td>\n",
       "    </tr>\n",
       "    <tr>\n",
       "      <th>17</th>\n",
       "      <td>Twisties</td>\n",
       "      <td>0.046184</td>\n",
       "      <td>0.037877</td>\n",
       "      <td>1.219314</td>\n",
       "    </tr>\n",
       "    <tr>\n",
       "      <th>5</th>\n",
       "      <td>Doritos</td>\n",
       "      <td>0.122761</td>\n",
       "      <td>0.101075</td>\n",
       "      <td>1.214547</td>\n",
       "    </tr>\n",
       "    <tr>\n",
       "      <th>9</th>\n",
       "      <td>Kettle</td>\n",
       "      <td>0.197985</td>\n",
       "      <td>0.165554</td>\n",
       "      <td>1.195891</td>\n",
       "    </tr>\n",
       "    <tr>\n",
       "      <th>16</th>\n",
       "      <td>Tostitos</td>\n",
       "      <td>0.045411</td>\n",
       "      <td>0.037978</td>\n",
       "      <td>1.195708</td>\n",
       "    </tr>\n",
       "    <tr>\n",
       "      <th>11</th>\n",
       "      <td>Pringles</td>\n",
       "      <td>0.119420</td>\n",
       "      <td>0.100635</td>\n",
       "      <td>1.186665</td>\n",
       "    </tr>\n",
       "    <tr>\n",
       "      <th>4</th>\n",
       "      <td>Cobs</td>\n",
       "      <td>0.044638</td>\n",
       "      <td>0.039049</td>\n",
       "      <td>1.143119</td>\n",
       "    </tr>\n",
       "    <tr>\n",
       "      <th>8</th>\n",
       "      <td>Infuzions</td>\n",
       "      <td>0.064679</td>\n",
       "      <td>0.057065</td>\n",
       "      <td>1.133430</td>\n",
       "    </tr>\n",
       "    <tr>\n",
       "      <th>15</th>\n",
       "      <td>Thins</td>\n",
       "      <td>0.060373</td>\n",
       "      <td>0.056987</td>\n",
       "      <td>1.059418</td>\n",
       "    </tr>\n",
       "    <tr>\n",
       "      <th>7</th>\n",
       "      <td>Grain Waves</td>\n",
       "      <td>0.032712</td>\n",
       "      <td>0.031188</td>\n",
       "      <td>1.048868</td>\n",
       "    </tr>\n",
       "    <tr>\n",
       "      <th>3</th>\n",
       "      <td>Cheezels</td>\n",
       "      <td>0.017971</td>\n",
       "      <td>0.018647</td>\n",
       "      <td>0.963749</td>\n",
       "    </tr>\n",
       "    <tr>\n",
       "      <th>13</th>\n",
       "      <td>Smiths</td>\n",
       "      <td>0.096370</td>\n",
       "      <td>0.124580</td>\n",
       "      <td>0.773561</td>\n",
       "    </tr>\n",
       "    <tr>\n",
       "      <th>6</th>\n",
       "      <td>French</td>\n",
       "      <td>0.003948</td>\n",
       "      <td>0.005758</td>\n",
       "      <td>0.685566</td>\n",
       "    </tr>\n",
       "    <tr>\n",
       "      <th>2</th>\n",
       "      <td>Cheetos</td>\n",
       "      <td>0.008033</td>\n",
       "      <td>0.012067</td>\n",
       "      <td>0.665730</td>\n",
       "    </tr>\n",
       "    <tr>\n",
       "      <th>12</th>\n",
       "      <td>RRD</td>\n",
       "      <td>0.043810</td>\n",
       "      <td>0.067494</td>\n",
       "      <td>0.649088</td>\n",
       "    </tr>\n",
       "    <tr>\n",
       "      <th>10</th>\n",
       "      <td>NCC</td>\n",
       "      <td>0.019600</td>\n",
       "      <td>0.030854</td>\n",
       "      <td>0.635238</td>\n",
       "    </tr>\n",
       "    <tr>\n",
       "      <th>1</th>\n",
       "      <td>CCs</td>\n",
       "      <td>0.011180</td>\n",
       "      <td>0.018896</td>\n",
       "      <td>0.591674</td>\n",
       "    </tr>\n",
       "    <tr>\n",
       "      <th>14</th>\n",
       "      <td>Sunbites</td>\n",
       "      <td>0.006349</td>\n",
       "      <td>0.012580</td>\n",
       "      <td>0.504696</td>\n",
       "    </tr>\n",
       "    <tr>\n",
       "      <th>19</th>\n",
       "      <td>Woolworths</td>\n",
       "      <td>0.024099</td>\n",
       "      <td>0.049427</td>\n",
       "      <td>0.487571</td>\n",
       "    </tr>\n",
       "    <tr>\n",
       "      <th>0</th>\n",
       "      <td>Burger</td>\n",
       "      <td>0.002926</td>\n",
       "      <td>0.006596</td>\n",
       "      <td>0.443595</td>\n",
       "    </tr>\n",
       "  </tbody>\n",
       "</table>\n",
       "</div>"
      ],
      "text/plain": [
       "          BRAND  targetSegment  otherCustomers  affinityToBrand\n",
       "18     Tyrrells       0.031553        0.025693         1.228090\n",
       "17     Twisties       0.046184        0.037877         1.219314\n",
       "5       Doritos       0.122761        0.101075         1.214547\n",
       "9        Kettle       0.197985        0.165554         1.195891\n",
       "16     Tostitos       0.045411        0.037978         1.195708\n",
       "11     Pringles       0.119420        0.100635         1.186665\n",
       "4          Cobs       0.044638        0.039049         1.143119\n",
       "8     Infuzions       0.064679        0.057065         1.133430\n",
       "15        Thins       0.060373        0.056987         1.059418\n",
       "7   Grain Waves       0.032712        0.031188         1.048868\n",
       "3      Cheezels       0.017971        0.018647         0.963749\n",
       "13       Smiths       0.096370        0.124580         0.773561\n",
       "6        French       0.003948        0.005758         0.685566\n",
       "2       Cheetos       0.008033        0.012067         0.665730\n",
       "12          RRD       0.043810        0.067494         0.649088\n",
       "10          NCC       0.019600        0.030854         0.635238\n",
       "1           CCs       0.011180        0.018896         0.591674\n",
       "14     Sunbites       0.006349        0.012580         0.504696\n",
       "19   Woolworths       0.024099        0.049427         0.487571\n",
       "0        Burger       0.002926        0.006596         0.443595"
      ]
     },
     "execution_count": 127,
     "metadata": {},
     "output_type": "execute_result"
    }
   ],
   "source": [
    "brand_proportions = pd.DataFrame({\"targetSegment\": qty_segment1_by_brand,\"otherCustomers\": qty_other_by_brand}).reset_index()\n",
    "\n",
    "# compute affinity score\n",
    "brand_proportions[\"affinityToBrand\"] = brand_proportions[\"targetSegment\"] / brand_proportions[\"otherCustomers\"]\n",
    "brand_proportions = brand_proportions.sort_values(by=\"affinityToBrand\", ascending=False)\n",
    "brand_proportions"
   ]
  },
  {
   "cell_type": "markdown",
   "id": "06ef9495",
   "metadata": {},
   "source": [
    "#### Insights:\n",
    "-  Tyrrells and Twisties, which were not in the top 5 by purchase volume, now appear as the highest affinity brands. This means they are highly preferred within Mainstream Young Singles/Couples segment, even if their total purchase quantity is lower.\n",
    "-  Kettle, Doritos, Pringles and Infuzions appear in both rankings, meaning they are both popular and have a strong preference among the target segment.\n",
    "-  Smiths, which was in the top 5 purchases, has an affinity score of only 0.77, meaning it is more popular among other customers and not uniquely preferred by Young Singles/Couples."
   ]
  },
  {
   "cell_type": "code",
   "execution_count": 129,
   "id": "38f9bd4f",
   "metadata": {},
   "outputs": [
    {
     "name": "stdout",
     "output_type": "stream",
     "text": [
      "    PACK_SIZE  targetSegment  otherCustomers  affinityToPack\n",
      "17        270       0.031829        0.025096        1.268281\n",
      "19        380       0.032160        0.025584        1.257024\n",
      "18        330       0.061284        0.050162        1.221711\n",
      "4         134       0.119420        0.100635        1.186665\n",
      "2         110       0.106280        0.089792        1.183632\n",
      "14        210       0.029124        0.025121        1.159313\n",
      "5         135       0.014769        0.013075        1.129505\n",
      "16        250       0.014355        0.012781        1.123161\n",
      "9         170       0.080773        0.080986        0.997365\n",
      "6         150       0.157598        0.163421        0.964368\n",
      "10        175       0.254990        0.270004        0.944394\n",
      "8         165       0.055652        0.062268        0.893753\n",
      "12        190       0.007481        0.012442        0.601268\n",
      "11        180       0.003589        0.006067        0.591536\n",
      "7         160       0.006404        0.012373        0.517613\n",
      "1          90       0.006349        0.012580        0.504696\n",
      "3         125       0.003009        0.006037        0.498440\n",
      "13        200       0.008972        0.018656        0.480897\n",
      "0          70       0.003037        0.006322        0.480290\n",
      "15        220       0.002926        0.006596        0.443595\n"
     ]
    }
   ],
   "source": [
    "# total quantity of chips purchased by each group\n",
    "total_qty_segment1 = segment1[\"PROD_QTY\"].sum()\n",
    "total_qty_other = other[\"PROD_QTY\"].sum()\n",
    "\n",
    "# proportion of purchases by pack size\n",
    "qty_segment1_by_pack = segment1.groupby(\"PACK_SIZE\")[\"PROD_QTY\"].sum() / total_qty_segment1\n",
    "\n",
    "# proportion of purchases by pack size within the rest of the population\n",
    "qty_other_by_pack = other.groupby(\"PACK_SIZE\")[\"PROD_QTY\"].sum()/ total_qty_other\n",
    "\n",
    "pack_proportions = pd.DataFrame({\"targetSegment\": qty_segment1_by_pack,\"otherCustomers\": qty_other_by_pack}).reset_index()\n",
    "\n",
    "# compute the affinity score\n",
    "pack_proportions[\"affinityToPack\"] = (pack_proportions[\"targetSegment\"] / pack_proportions[\"otherCustomers\"])\n",
    "pack_proportions = pack_proportions.sort_values(by=\"affinityToPack\", ascending=False)\n",
    "print(pack_proportions)"
   ]
  },
  {
   "cell_type": "markdown",
   "id": "616ee4f7",
   "metadata": {},
   "source": [
    "#### Insights:\n",
    "-  270g, 380g, and 330g packs show the highest affinity scores, meaning our target segment is significantly more likely to purchase these larger packs compared to the general population."
   ]
  },
  {
   "cell_type": "code",
   "execution_count": 141,
   "id": "8249f91c",
   "metadata": {},
   "outputs": [
    {
     "data": {
      "text/html": [
       "<div>\n",
       "<style scoped>\n",
       "    .dataframe tbody tr th:only-of-type {\n",
       "        vertical-align: middle;\n",
       "    }\n",
       "\n",
       "    .dataframe tbody tr th {\n",
       "        vertical-align: top;\n",
       "    }\n",
       "\n",
       "    .dataframe thead th {\n",
       "        text-align: right;\n",
       "    }\n",
       "</style>\n",
       "<table border=\"1\" class=\"dataframe\">\n",
       "  <thead>\n",
       "    <tr style=\"text-align: right;\">\n",
       "      <th></th>\n",
       "      <th>PROD_NAME</th>\n",
       "      <th>PACK_SIZE</th>\n",
       "      <th>BRAND</th>\n",
       "    </tr>\n",
       "  </thead>\n",
       "  <tbody>\n",
       "    <tr>\n",
       "      <th>5</th>\n",
       "      <td>Smiths Crinkle Chips Salt &amp; Vinegar 330g</td>\n",
       "      <td>330</td>\n",
       "      <td>Smiths</td>\n",
       "    </tr>\n",
       "    <tr>\n",
       "      <th>11</th>\n",
       "      <td>Twisties Cheese     270g</td>\n",
       "      <td>270</td>\n",
       "      <td>Twisties</td>\n",
       "    </tr>\n",
       "    <tr>\n",
       "      <th>19</th>\n",
       "      <td>Smiths Crinkle      Original 330g</td>\n",
       "      <td>330</td>\n",
       "      <td>Smiths</td>\n",
       "    </tr>\n",
       "    <tr>\n",
       "      <th>38</th>\n",
       "      <td>Dorito Corn Chp     Supreme 380g</td>\n",
       "      <td>380</td>\n",
       "      <td>Doritos</td>\n",
       "    </tr>\n",
       "    <tr>\n",
       "      <th>39</th>\n",
       "      <td>Twisties Chicken270g</td>\n",
       "      <td>270</td>\n",
       "      <td>Twisties</td>\n",
       "    </tr>\n",
       "    <tr>\n",
       "      <th>93</th>\n",
       "      <td>Smiths Crnkle Chip  Orgnl Big Bag 380g</td>\n",
       "      <td>380</td>\n",
       "      <td>Smiths</td>\n",
       "    </tr>\n",
       "    <tr>\n",
       "      <th>119</th>\n",
       "      <td>Cheezels Cheese 330g</td>\n",
       "      <td>330</td>\n",
       "      <td>Cheezels</td>\n",
       "    </tr>\n",
       "    <tr>\n",
       "      <th>327</th>\n",
       "      <td>Doritos Cheese      Supreme 330g</td>\n",
       "      <td>330</td>\n",
       "      <td>Doritos</td>\n",
       "    </tr>\n",
       "  </tbody>\n",
       "</table>\n",
       "</div>"
      ],
      "text/plain": [
       "                                    PROD_NAME  PACK_SIZE     BRAND\n",
       "5    Smiths Crinkle Chips Salt & Vinegar 330g        330    Smiths\n",
       "11                   Twisties Cheese     270g        270  Twisties\n",
       "19          Smiths Crinkle      Original 330g        330    Smiths\n",
       "38           Dorito Corn Chp     Supreme 380g        380   Doritos\n",
       "39                       Twisties Chicken270g        270  Twisties\n",
       "93     Smiths Crnkle Chip  Orgnl Big Bag 380g        380    Smiths\n",
       "119                      Cheezels Cheese 330g        330  Cheezels\n",
       "327          Doritos Cheese      Supreme 330g        330   Doritos"
      ]
     },
     "execution_count": 141,
     "metadata": {},
     "output_type": "execute_result"
    }
   ],
   "source": [
    "merged_data.loc[merged_data[\"PACK_SIZE\"].isin([270,380,330]), [\"PROD_NAME\",\"PACK_SIZE\",\"BRAND\"]].drop_duplicates()"
   ]
  },
  {
   "cell_type": "markdown",
   "id": "98654c94",
   "metadata": {},
   "source": [
    "#### Insights:\n",
    "-  Smiths and Doritos and Cheezels dominate the larger pack sizes, making them strong contenders in bulk purchase categories.\n",
    "-  The 270g pack size received the highest affinity score (~1.27), indicating that target customers are 26% more likely to buy it, and Twisties is the only brand offering this pack size, making it a uniquely favored choice."
   ]
  },
  {
   "cell_type": "code",
   "execution_count": null,
   "id": "1db33dcd",
   "metadata": {},
   "outputs": [],
   "source": []
  }
 ],
 "metadata": {
  "kernelspec": {
   "display_name": "Python 3 (ipykernel)",
   "language": "python",
   "name": "python3"
  },
  "language_info": {
   "codemirror_mode": {
    "name": "ipython",
    "version": 3
   },
   "file_extension": ".py",
   "mimetype": "text/x-python",
   "name": "python",
   "nbconvert_exporter": "python",
   "pygments_lexer": "ipython3",
   "version": "3.11.7"
  }
 },
 "nbformat": 4,
 "nbformat_minor": 5
}
